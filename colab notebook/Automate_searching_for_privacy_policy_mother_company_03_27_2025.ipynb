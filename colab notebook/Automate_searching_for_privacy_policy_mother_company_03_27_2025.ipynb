{
  "nbformat": 4,
  "nbformat_minor": 0,
  "metadata": {
    "colab": {
      "provenance": []
    },
    "kernelspec": {
      "name": "python3",
      "display_name": "Python 3"
    },
    "language_info": {
      "name": "python"
    }
  },
  "cells": [
    {
      "cell_type": "code",
      "source": [
        " !pip install google-search-results"
      ],
      "metadata": {
        "colab": {
          "base_uri": "https://localhost:8080/"
        },
        "id": "OuVhU4AAP8Hf",
        "outputId": "4d1cbd4b-1406-4c03-d31b-252a9a3a11e5"
      },
      "execution_count": null,
      "outputs": [
        {
          "output_type": "stream",
          "name": "stdout",
          "text": [
            "Requirement already satisfied: google-search-results in /usr/local/lib/python3.11/dist-packages (2.4.2)\n",
            "Requirement already satisfied: requests in /usr/local/lib/python3.11/dist-packages (from google-search-results) (2.32.3)\n",
            "Requirement already satisfied: charset-normalizer<4,>=2 in /usr/local/lib/python3.11/dist-packages (from requests->google-search-results) (3.4.1)\n",
            "Requirement already satisfied: idna<4,>=2.5 in /usr/local/lib/python3.11/dist-packages (from requests->google-search-results) (3.10)\n",
            "Requirement already satisfied: urllib3<3,>=1.21.1 in /usr/local/lib/python3.11/dist-packages (from requests->google-search-results) (2.3.0)\n",
            "Requirement already satisfied: certifi>=2017.4.17 in /usr/local/lib/python3.11/dist-packages (from requests->google-search-results) (2025.1.31)\n"
          ]
        }
      ]
    },
    {
      "cell_type": "markdown",
      "source": [
        "Reference\n",
        "1. https://www.youtube.com/watch?v=ptWJkrd0vqc\n"
      ],
      "metadata": {
        "id": "JUbzaPqFNMv-"
      }
    },
    {
      "cell_type": "code",
      "source": [
        "from serpapi import GoogleSearch\n",
        "import pandas as pd\n",
        "from glob import glob\n",
        "\n",
        "\n",
        "API_KEY = \"8fb4d35f94099c58fc64aa7f4daa19f19b0811621580c7c4b3c0f981036ecdd2\""
      ],
      "metadata": {
        "id": "T9HEjRGvYNjA"
      },
      "execution_count": null,
      "outputs": []
    },
    {
      "cell_type": "markdown",
      "source": [
        "# Demo search"
      ],
      "metadata": {
        "id": "tx5dvRxTXx-K"
      }
    },
    {
      "cell_type": "code",
      "source": [
        "params = {\n",
        "  \"engine\": \"google\",\n",
        "  \"q\": \"your search query\",\n",
        "  \"api_key\": \"8fb4d35f94099c58fc64aa7f4daa19f19b0811621580c7c4b3c0f981036ecdd2\"\n",
        "}\n",
        "search = GoogleSearch(params)\n",
        "results = search.get_dict()\n",
        "print(results)"
      ],
      "metadata": {
        "colab": {
          "base_uri": "https://localhost:8080/"
        },
        "id": "IU39YdT5P1oC",
        "outputId": "b783b772-a308-47d4-823c-7b3c90a9126f"
      },
      "execution_count": null,
      "outputs": [
        {
          "output_type": "stream",
          "name": "stdout",
          "text": [
            "{'search_metadata': {'id': '67e5735f65da7dd9acf4a216', 'status': 'Success', 'json_endpoint': 'https://serpapi.com/searches/4ce16f97ee6998b2/67e5735f65da7dd9acf4a216.json', 'created_at': '2025-03-27 15:48:47 UTC', 'processed_at': '2025-03-27 15:48:47 UTC', 'google_url': 'https://www.google.com/search?q=your+search+query&oq=your+search+query&sourceid=chrome&ie=UTF-8', 'raw_html_file': 'https://serpapi.com/searches/4ce16f97ee6998b2/67e5735f65da7dd9acf4a216.html', 'total_time_taken': 4.68}, 'search_parameters': {'engine': 'google', 'q': 'your search query', 'google_domain': 'google.com', 'device': 'desktop'}, 'search_information': {'query_displayed': 'your search query', 'total_results': 893000000, 'time_taken_displayed': 0.22, 'organic_results_state': 'Results for exact spelling'}, 'knowledge_graph': {'entity_type': 'video_universal'}, 'inline_images': [{'source': 'https://www.wordstream.com/blog/ws/2012/12/10/three-types-of-search-queries', 'thumbnail': 'https://serpapi.com/searches/67e5735f65da7dd9acf4a216/images/c2d1cd4f639bfabf38a1d390cb1caf4f64787c60eeb31d5100e40a1b8afbe275.jpeg', 'original': 'https://www.wordstream.com/wp-content/uploads/2021/07/search-query-types-1.png', 'title': 'The 3 Types of Search Queries & How You Should Target Them', 'source_name': 'WordStream'}, {'source': 'https://growhackscale.com/glossary/search-queries', 'thumbnail': 'https://serpapi.com/searches/67e5735f65da7dd9acf4a216/images/c2d1cd4f639bfabf93c7093b43cd18856c0551eeb1f30dcbacf60f87d074172a.jpeg', 'original': 'https://cdn.prod.website-files.com/5c06e16a5bdc7bce10059cc3/5e55412b1e3cf6729686f2b8_y-rPFfPhp5RQju07LslGs6spPoyjPvCPTWkYP89wzgXpA29TA0FNJ3qNW98ubAk9ydnOUGkL67BYMx0PW8V8Zf8_yGWUwvusPIRQthXd7dylI_2Q0OWHIo-iUmB2IxLleQl_dnjM.png', 'title': 'What is a Search Query? (Definition) - SEO Glossary', 'source_name': 'The GTM Design Company'}, {'source': 'https://sitechecker.pro/what-is-search-query/', 'thumbnail': 'https://serpapi.com/searches/67e5735f65da7dd9acf4a216/images/c2d1cd4f639bfabf375bcc99dd88fd2f4cdb953dfe852a510f9c5cbea832c6c2.jpeg', 'original': 'https://sitechecker.pro/wp-content/uploads/2023/11/what-is-search-query.png', 'title': 'What is a Search Query? Importance, Functionality, and SEO ...', 'source_name': 'Sitechecker'}, {'source': 'https://www.wordstream.com/blog/ws/2012/12/10/three-types-of-search-queries', 'thumbnail': 'https://encrypted-tbn0.gstatic.com/images?q=tbn:ANd9GcRzgFlfLWXY7axBxfP77qVuc9QytTxx27VDsubqN9kmWLQ7t6BniH0v3XI&s', 'original': 'https://www.wordstream.com/wp-content/uploads/2021/07/organic-plus-paid-results-navigational-query-1.png', 'title': 'The 3 Types of Search Queries & How You Should Target Them', 'source_name': 'WordStream'}, {'source': 'https://www.youtube.com/watch?v=JsfPmhfi9-4', 'thumbnail': 'https://encrypted-tbn0.gstatic.com/images?q=tbn:ANd9GcTPgJHTNUthnTE2JkTyRt9PHux70ssKuZneStuwEqxey0Z_PVynloxuWZk&s', 'original': 'https://i.ytimg.com/vi/JsfPmhfi9-4/hq720.jpg?sqp=-oaymwEhCK4FEIIDSFryq4qpAxMIARUAAAAAGAElAADIQj0AgKJD&rs=AOn4CLDm3OtAadYQ3xkESvlrl6Vk9vlzng', 'title': '5. Using query suggestions to optimize your search', 'source_name': 'YouTube'}, {'source': 'https://greatcontent.com/types-of-search-queries-marketing/', 'thumbnail': 'https://encrypted-tbn0.gstatic.com/images?q=tbn:ANd9GcQWnm_pq_2-pzqghaYHHjRTftg0iQYEs64kkkBd-akxZa0H_fHmQJOcB0E&s', 'original': 'https://greatcontent.com/wp-content/uploads/2022/06/Search-Queries-1024x1024.png', 'title': 'What Are the 3 Main Types of Search Queries? That Boost Your ...', 'source_name': 'greatcontent'}, {'source': 'https://support.google.com/websearch/thread/11961524/how-to-force-google-search-to-search-for-my-query?hl=en', 'thumbnail': 'https://encrypted-tbn0.gstatic.com/images?q=tbn:ANd9GcTm91Eu0HCLXMnmGELFUuI7pAYoc8VZQrl-0zFqgnVd6StrKvzHzwo_r7Q&s', 'original': 'https://storage.googleapis.com/support-forums-api/attachment/message-11963635-10556524145167890263.png', 'title': 'How to force Google Search to search for my query? - Google ...', 'source_name': 'Google Help'}, {'source': 'https://webofscience.help.clarivate.com/en-us/Content/advanced-search.html', 'thumbnail': 'https://encrypted-tbn0.gstatic.com/images?q=tbn:ANd9GcR7B5eQUyW70QKnFDJ49wiwoX39SyFrljXxbdUflO-cgC00xAyUwjiswdw&s', 'original': 'https://webofscience.help.clarivate.com/en-us/Content/Resources/Images/advanced-search-link.png', 'title': 'Advanced Search Query Builder', 'source_name': 'Web of Science Help - Clarivate'}, {'source': 'https://doc.sitecore.com/xp/en/users/latest/sitecore-experience-platform/build-a-search-query.html', 'thumbnail': 'https://encrypted-tbn0.gstatic.com/images?q=tbn:ANd9GcQxuq6hUZsMfCdK6lIENWJjgONnb4h6ZPQ9v5maqO66cwvm0oUgsf78NG0&s', 'original': 'https://resources.doc.sitecore.com/assets/image/uuid-cc8dd550-6e64-51ec-3dbe-ebcd8cb2bf40.png', 'title': 'Build a search query | Sitecore Documentation', 'source_name': 'Sitecore Documentation'}], 'inline_videos': [{'position': 1, 'title': 'Using Search Queries to improve your site', 'link': 'https://www.youtube.com/watch?v=-wWB1PS8H7Q', 'thumbnail': 'https://serpapi.com/searches/67e5735f65da7dd9acf4a216/images/db7ab10a290a79acc80a05f7307b66b513e44d3137534e4ffcac585cfb063a4d.jpeg', 'channel': 'Google Search Central', 'duration': '12:30', 'platform': 'YouTube', 'key_moments': [{'time': '00:02', 'title': 'Intro', 'link': 'https://www.youtube.com/watch?v=-wWB1PS8H7Q&t=2', 'thumbnail': 'https://encrypted-tbn0.gstatic.com/images?q=tbn:ANd9GcTmz_RLoOf62HYK21kGbH0muMTGJ6aZkXwXwrHylYqzJQ&s'}, {'time': '00:52', 'title': 'Closing thoughts', 'link': 'https://www.youtube.com/watch?v=-wWB1PS8H7Q&t=52', 'thumbnail': 'https://encrypted-tbn0.gstatic.com/images?q=tbn:ANd9GcSjFrTJrZPp3mKCDPwwf2uVOuVNNW2XzcQ0Z15kiGkGGQ&s'}, {'time': '01:57', 'title': 'What is a query?', 'link': 'https://www.youtube.com/watch?v=-wWB1PS8H7Q&t=117', 'thumbnail': 'https://encrypted-tbn0.gstatic.com/images?q=tbn:ANd9GcT0PCprca66Cdod1qzOfEMbmqkaOcK_vW95jwFTgG42kQ&s'}, {'time': '03:31', 'title': 'Qualified traffic', 'link': 'https://www.youtube.com/watch?v=-wWB1PS8H7Q&t=211', 'thumbnail': 'https://encrypted-tbn0.gstatic.com/images?q=tbn:ANd9GcTo8L-y_HomMz7x5s7DilcYd0QPn_HrbGWaGgUpFKPQGg&s'}, {'time': '04:49', 'title': 'Filtering search queries', 'link': 'https://www.youtube.com/watch?v=-wWB1PS8H7Q&t=289', 'thumbnail': 'https://encrypted-tbn0.gstatic.com/images?q=tbn:ANd9GcSI3LmL7nhkqmqG4mpNTGR1R7bl9p6xWTuaJDA4bFkWfA&s'}, {'time': '05:40', 'title': 'Sorting by clicks rather than impressions', 'link': 'https://www.youtube.com/watch?v=-wWB1PS8H7Q&t=340', 'thumbnail': 'https://encrypted-tbn0.gstatic.com/images?q=tbn:ANd9GcSpLGb8DQx_WPr24n6QtTF1WQAaYHQwzlaNg83gVoRMsw&s'}, {'time': '08:03', 'title': 'Troubleshooting missing queries', 'link': 'https://www.youtube.com/watch?v=-wWB1PS8H7Q&t=483', 'thumbnail': 'https://encrypted-tbn0.gstatic.com/images?q=tbn:ANd9GcT1hpGcFYD6hl6aTuRXYBXHi0C9qltKeFy0Fbem6wxtkw&s'}, {'time': '08:57', 'title': 'Categorizing search queries', 'link': 'https://www.youtube.com/watch?v=-wWB1PS8H7Q&t=537', 'thumbnail': 'https://encrypted-tbn0.gstatic.com/images?q=tbn:ANd9GcTzMJdinIzaeYrbFtIrO4Qdz9j5b43rv6Vt1sH0irahjw&s'}, {'time': '10:19', 'title': 'Using the Top Pages tab', 'link': 'https://www.youtube.com/watch?v=-wWB1PS8H7Q&t=619', 'thumbnail': 'https://encrypted-tbn0.gstatic.com/images?q=tbn:ANd9GcQwIIP7UsCIn-NsJsTvjedb6ghyG4lvxKDeRZdLdKKjyQ&s'}, {'time': '12:06', 'title': 'Conclusion', 'link': 'https://www.youtube.com/watch?v=-wWB1PS8H7Q&t=726', 'thumbnail': 'https://encrypted-tbn0.gstatic.com/images?q=tbn:ANd9GcR63kCWioVnuwe3aTq5hT7HZEd1D3buDp5gJLPXpT-FHQ&s'}]}, {'position': 2, 'title': 'Three Steps to Create An Effective Search Query', 'link': 'https://www.youtube.com/watch?v=x780f0yLmU0', 'thumbnail': 'https://serpapi.com/searches/67e5735f65da7dd9acf4a216/images/db7ab10a290a79ac8844199a8bd4c76610bd0490594b9b95a3f7b303a9f53b49.jpeg', 'channel': 'U of G Library', 'duration': '3:46', 'platform': 'YouTube', 'key_moments': [{'time': '00:29', 'title': 'Step 1 Identify the Main Concepts in the Research Question', 'link': 'https://www.youtube.com/watch?v=x780f0yLmU0&t=29'}, {'time': '00:52', 'title': 'Step Two Brainstorm Synonyms and Related Words for each Main Concept', 'link': 'https://www.youtube.com/watch?v=x780f0yLmU0&t=52'}, {'time': '01:25', 'title': 'Step 3 Insert the Words', 'link': 'https://www.youtube.com/watch?v=x780f0yLmU0&t=85'}]}, {'position': 3, 'title': 'How to create a search query (English)', 'link': 'https://www.youtube.com/watch?v=dkFoE-3kry0', 'thumbnail': 'https://serpapi.com/searches/67e5735f65da7dd9acf4a216/images/db7ab10a290a79acecf13d8ca38b7e9c2ec16d5fd710230ea0935a3dc2685b4a.jpeg', 'channel': 'Knihovna ČZU', 'duration': '4:53', 'platform': 'YouTube', 'key_moments': [{'time': '00:15', 'title': 'How to find a right key word?', 'link': 'https://www.youtube.com/watch?v=dkFoE-3kry0&t=15', 'thumbnail': 'https://encrypted-tbn0.gstatic.com/images?q=tbn:ANd9GcTFG-XSYEvy_-neOFhdC8Maq_blNUwAStWdihwOEKtbNA&s'}, {'time': '01:00', 'title': 'Example', 'link': 'https://www.youtube.com/watch?v=dkFoE-3kry0&t=60', 'thumbnail': 'https://encrypted-tbn0.gstatic.com/images?q=tbn:ANd9GcQJZArGLbf_csbbE00Hy4DbxCVUNurfgBeH2KejwqiQrg&s'}, {'time': '02:35', 'title': 'Boolean operators', 'link': 'https://www.youtube.com/watch?v=dkFoE-3kry0&t=155', 'thumbnail': 'https://encrypted-tbn0.gstatic.com/images?q=tbn:ANd9GcS-dmMceQqzhTkYxxOh8DIdnDsCi66aF5a9zKgFzAMfkg&s'}, {'time': '04:18', 'title': 'What to do with search query?', 'link': 'https://www.youtube.com/watch?v=dkFoE-3kry0&t=258', 'thumbnail': 'https://encrypted-tbn0.gstatic.com/images?q=tbn:ANd9GcSfLHC1_qc0POhJjp3dYvUtcMPoge4owWYXXd1rQ77Ajg&s'}]}], 'organic_results': [{'position': 1, 'title': 'What is a Search Query? (Definition) - SEO Glossary', 'link': 'https://growhackscale.com/glossary/search-queries', 'redirect_link': 'https://www.google.com/url?sa=t&source=web&rct=j&opi=89978449&url=https://growhackscale.com/glossary/search-queries&ved=2ahUKEwi4scKezqqMAxXOa_UHHSnUADsQFnoECBsQAQ', 'displayed_link': 'https://growhackscale.com › glossary › search-queries', 'favicon': 'https://serpapi.com/searches/67e5735f65da7dd9acf4a216/images/0a99262b0b0b277b9ec197df5b097a36cdfffc959e5d5bf8fb058fbbf36c2ac9.png', 'snippet': 'Search queries are a list of phrases and keywords users enter in search engines to find things of interest.', 'snippet_highlighted_words': ['Search queries are a list of phrases and keywords'], 'source': 'growhackscale.com'}, {'position': 2, 'title': 'Search Query Definition', 'link': 'https://www.pageonepower.com/search-glossary/search-query', 'redirect_link': 'https://www.google.com/url?sa=t&source=web&rct=j&opi=89978449&url=https://www.pageonepower.com/search-glossary/search-query&ved=2ahUKEwi4scKezqqMAxXOa_UHHSnUADsQFnoECCAQAQ', 'displayed_link': 'https://www.pageonepower.com › search-glossary › sea...', 'favicon': 'https://serpapi.com/searches/67e5735f65da7dd9acf4a216/images/0a99262b0b0b277b9ec197df5b097a360c49729a83426cb13644848d7f4843f9.png', 'snippet': \"A search query is a word or phrase that an internet user types into a search engine's search box to answer an inquiry or question.\", 'snippet_highlighted_words': [\"a word or phrase that an internet user types into a search engine's search box\"], 'sitelinks': {'inline': [{'title': 'What Is a Search Query?', 'link': 'https://www.pageonepower.com/search-glossary/search-query#sectionone'}, {'title': 'Search Queries vs. Keywords', 'link': 'https://www.pageonepower.com/search-glossary/search-query#sectiontwo'}]}, 'source': 'Page One Power'}, {'position': 3, 'title': 'The 3 Types of Search Queries & How You Should Target ...', 'link': 'https://www.wordstream.com/blog/ws/2012/12/10/three-types-of-search-queries', 'redirect_link': 'https://www.google.com/url?sa=t&source=web&rct=j&opi=89978449&url=https://www.wordstream.com/blog/ws/2012/12/10/three-types-of-search-queries&ved=2ahUKEwi4scKezqqMAxXOa_UHHSnUADsQFnoECCkQAQ', 'displayed_link': 'https://www.wordstream.com › Blog', 'favicon': 'https://serpapi.com/searches/67e5735f65da7dd9acf4a216/images/0a99262b0b0b277b9ec197df5b097a36ebe1f5c10f1710796fd3ed3dd3e28324.png', 'date': 'Nov 22, 2023', 'snippet': 'Search queries – the words and phrases that people type into a search box in order to pull up a list of results – come in different flavors.', 'snippet_highlighted_words': ['Search queries'], 'source': 'WordStream'}, {'position': 4, 'title': 'Refine Google searches', 'link': 'https://support.google.com/websearch/answer/2466433?hl=en', 'redirect_link': 'https://www.google.com/url?sa=t&source=web&rct=j&opi=89978449&url=https://support.google.com/websearch/answer/2466433%3Fhl%3Den&ved=2ahUKEwi4scKezqqMAxXOa_UHHSnUADsQFnoECCoQAQ', 'displayed_link': 'https://support.google.com › websearch › answer', 'favicon': 'https://serpapi.com/searches/67e5735f65da7dd9acf4a216/images/0a99262b0b0b277b9ec197df5b097a36c138f2d6a65045b2e419a6fc0c2d29c6.png', 'snippet': 'Refine Google searches. There are different ways to filter your Google searches to be more precise or to expand in new directions. Advanced search.', 'snippet_highlighted_words': ['Refine Google searches'], 'source': 'Google Help'}, {'position': 5, 'title': 'The Key to Writing a Great Search Query', 'link': 'https://www.youtube.com/watch?v=ISDC5RhAong', 'displayed_link': '510+ views · 2 years ago', 'thumbnail': 'https://i.ytimg.com/vi/ISDC5RhAong/mqdefault.jpg?sqp=-oaymwEFCJQBEFM&rs=AMzJL3ny9BdANNLydTJrD_rC50eN1ZGyPw', 'favicon': 'https://serpapi.com/searches/67e5735f65da7dd9acf4a216/images/0a99262b0b0b277b9ec197df5b097a36f3389f4cd8a052d158de325a52116cfb.png', 'snippet': 'Understanding how to effectively search the Internet is an essential “information literacy” skill. Although search engines are getting ...', 'duration': '1:48', 'video_link': 'https://encrypted-vtbn0.gstatic.com/video?q=tbn:ANd9GcQijc0zw7kKP1dBxsMFLHKownwzT1cShmCPOA', 'source': 'YouTube · CyberWise'}, {'position': 6, 'title': 'Better Search through Better Queries | by Daniel Tunkelang', 'link': 'https://dtunkelang.medium.com/better-search-through-better-queries-c192412a86e9?source=follow_footer---------2----------------------------', 'redirect_link': 'https://www.google.com/url?sa=t&source=web&rct=j&opi=89978449&url=https://dtunkelang.medium.com/better-search-through-better-queries-c192412a86e9%3Fsource%3Dfollow_footer---------2----------------------------&ved=2ahUKEwi4scKezqqMAxXOa_UHHSnUADsQFnoECCwQAQ', 'displayed_link': '130+ likes · 7 years ago', 'favicon': 'https://serpapi.com/searches/67e5735f65da7dd9acf4a216/images/0a99262b0b0b277b9ec197df5b097a3695b2c125c6ff77c5aa8d6362b825ecd3.png', 'snippet': 'Great search means not only returning the right results, but also helping searchers making the right queries. Most searchers have specific needs in mind.', 'snippet_highlighted_words': ['Great search means not only returning the right results'], 'source': 'Medium · Daniel Tunkelang'}, {'position': 7, 'title': 'Search Query Language - Issue Tracker', 'link': 'https://developers.google.com/issue-tracker/concepts/search-query-language', 'redirect_link': 'https://www.google.com/url?sa=t&source=web&rct=j&opi=89978449&url=https://developers.google.com/issue-tracker/concepts/search-query-language&ved=2ahUKEwi4scKezqqMAxXOa_UHHSnUADsQFnoECC4QAQ', 'displayed_link': 'https://developers.google.com › issue-tracker › concepts', 'favicon': 'https://serpapi.com/searches/67e5735f65da7dd9acf4a216/images/0a99262b0b0b277b9ec197df5b097a36c2b4cf596f3d2ba8ab08629fe8911060.png', 'snippet': 'The search query language is the syntax you use to perform issue searches in Google Issue Tracker. You can use the language in search queries you enter in ...', 'snippet_highlighted_words': ['search query language'], 'source': 'Google for Developers'}, {'position': 8, 'title': \"Keywords vs. Search Queries: What's the Difference?\", 'link': 'https://www.wordstream.com/blog/ws/2011/05/25/keywords-vs-search-queries', 'redirect_link': 'https://www.google.com/url?sa=t&source=web&rct=j&opi=89978449&url=https://www.wordstream.com/blog/ws/2011/05/25/keywords-vs-search-queries&ved=2ahUKEwi4scKezqqMAxXOa_UHHSnUADsQFnoECCcQAQ', 'displayed_link': 'https://www.wordstream.com › Blog', 'favicon': 'https://serpapi.com/searches/67e5735f65da7dd9acf4a216/images/0a99262b0b0b277b9ec197df5b097a3699669325940531da78353412322b02b4.png', 'date': 'Nov 27, 2023', 'snippet': 'A search query or search term is the actual word or string of words that a search engine user types into the search box.', 'snippet_highlighted_words': ['search query', 'search', 'search', 'search'], 'source': 'WordStream'}], 'top_stories_link': 'https://www.google.com/search?sca_esv=d3a22b163d23497b&q=your+search+query&udm=2&source=univ&fir=UVpyfk9yLBhBTM%252ClZQkQuvvbtk14M%252C_%253B1ceygdtR1Php7M%252Cpcpz6wJD2nIPEM%252C_%253BsFtG87gdcmI91M%252C1nRff-kor8_O7M%252C_%253BUw3YoVcj7rMzPM%252ClZQkQuvvbtk14M%252C_%253BQdlZzo3JNoWiWM%252Cuos5dM3XAbVOnM%252C_%253Bsb8C2uOvjencIM%252CV5a-GW2p6aFshM%252C_%253BPESxkgHpILetiM%252CC89rcQD-W3s6OM%252C_%253B6s436OSCTKd0AM%252Cx_ycPeVwEmKt0M%252C_%253BEGGDYLQV3jj4LM%252Cn5-m2xt-kQ2yNM%252C_&usg=AI4_-kRhXtUR83jKiMZgt0_OEVXVLnrkNA&sa=X&ved=2ahUKEwi4scKezqqMAxXOa_UHHSnUADsQ7Al6BAgZEAY', 'top_stories_serpapi_link': 'https://serpapi.com/search.json?device=desktop&engine=google&google_domain=google.com&q=your+search+query', 'related_searches': [{'block_position': 1, 'items': [{'name': 'Google Scholar', 'image': 'https://serpapi.com/searches/67e5735f65da7dd9acf4a216/images/2604f3c0c3736d0cab42229aef5ead4d250827f4294e44a9f2d54643d8643ee054aad60ca83ec8f6.gif', 'link': 'https://www.google.com/search?sca_esv=d3a22b163d23497b&q=Google+Scholar&stick=H4sIAAAAAAAAAOMwVOLUz9U3MDXPTTf5xciwgYXhFQs3F0IMzksxKrAseMXCxcUB4hlbmBe9YuHh4gIrTDIqMsmAqzSrzMkxRPDyik2z4UqT4quKk8rgkoZpecV5r1j4uXj10_UNDZPKLYxyk0yz4PJGWcY5VYtY-dzz89NzUhWCkzPycxKLbrFJMoT5hX9OnHGY7d2-qrTiBEUuzVnRjw7cs1q3iEMsIDW_AKg4Mac4X6E4NbEoOUMhLb9oBQcjADsVRQntAAAA&sa=X&ved=2ahUKEwi4scKezqqMAxXOa_UHHSnUADsQs9oBKAB6BAgmEAk', 'serpapi_link': 'https://serpapi.com/search.json?device=desktop&engine=google&google_domain=google.com&q=Google+Scholar&stick=H4sIAAAAAAAAAOMwVOLUz9U3MDXPTTf5xciwgYXhFQs3F0IMzksxKrAseMXCxcUB4hlbmBe9YuHh4gIrTDIqMsmAqzSrzMkxRPDyik2z4UqT4quKk8rgkoZpecV5r1j4uXj10_UNDZPKLYxyk0yz4PJGWcY5VYtY-dzz89NzUhWCkzPycxKLbrFJMoT5hX9OnHGY7d2-qrTiBEUuzVnRjw7cs1q3iEMsIDW_AKg4Mac4X6E4NbEoOUMhLb9oBQcjADsVRQntAAAA'}, {'name': 'Google Trends', 'image': 'https://serpapi.com/searches/67e5735f65da7dd9acf4a216/images/2604f3c0c3736d0cab42229aef5ead4d250827f4294e44a9fa3c27926ba43cb310ba2555086a6008.gif', 'link': 'https://www.google.com/search?sca_esv=d3a22b163d23497b&q=Google+Trends&stick=H4sIAAAAAAAAAOMwVOLUz9U3SDEqsCz4xciwgYXhFQs3F1jM1Dw33QTOA6t4xcLFxQHiGVuYF71i4eHiAitMMioyyYCrNKvMyTFE8PKKTbPhSpPiq4qTyuCShml5xXmvWPi5ePXT9Q0Nk8otjHKTTLPg8kZZxjlVi1h53fPz03NSFUKKUvNSim-xSTKE-YV_TpxxmO3dvqq04gRFLs1Z0Y8O3LNat4hDLCA1vwCoNjGnOF-hODWxKDlDIS2_aAUHIwAZJtEQ7AAAAA&sa=X&ved=2ahUKEwi4scKezqqMAxXOa_UHHSnUADsQs9oBKAB6BAgmEA4', 'serpapi_link': 'https://serpapi.com/search.json?device=desktop&engine=google&google_domain=google.com&q=Google+Trends&stick=H4sIAAAAAAAAAOMwVOLUz9U3SDEqsCz4xciwgYXhFQs3F1jM1Dw33QTOA6t4xcLFxQHiGVuYF71i4eHiAitMMioyyYCrNKvMyTFE8PKKTbPhSpPiq4qTyuCShml5xXmvWPi5ePXT9Q0Nk8otjHKTTLPg8kZZxjlVi1h53fPz03NSFUKKUvNSim-xSTKE-YV_TpxxmO3dvqq04gRFLs1Z0Y8O3LNat4hDLCA1vwCoNjGnOF-hODWxKDlDIS2_aAUHIwAZJtEQ7AAAAA'}, {'name': 'Google Search', 'image': 'https://serpapi.com/searches/67e5735f65da7dd9acf4a216/images/2604f3c0c3736d0cab42229aef5ead4d250827f4294e44a9f3ddee34f5b49321903781c8fe7a0000.gif', 'link': 'https://www.google.com/search?sca_esv=d3a22b163d23497b&q=Google+Search&stick=H4sIAAAAAAAAAOMwVOLQz9U3MLYwL_rFyLCBheEVCzcXJ0jI1Dw33QTOSzEqsCx4xcLFBVf-ioWHiwusMMmoyCQDrtKsMifHEMHLKzbNhitNiq8qTiqDSxqm5RXnvWLh5-LVT9c3NEwqtzDKTTLNgssbZRnnVC1i5XXPz0_PSVUITk0sSs64xSbJEOYX_jlxxmG2d_uq0ooTFLk0Z0U_OnDPat0iDrGA1PwCoNrEnOJ8hWKwBoW0_KIVHIwAIptIJOsAAAA&sa=X&ved=2ahUKEwi4scKezqqMAxXOa_UHHSnUADsQs9oBKAB6BAgmEBM', 'serpapi_link': 'https://serpapi.com/search.json?device=desktop&engine=google&google_domain=google.com&q=Google+Search&stick=H4sIAAAAAAAAAOMwVOLQz9U3MLYwL_rFyLCBheEVCzcXJ0jI1Dw33QTOSzEqsCx4xcLFBVf-ioWHiwusMMmoyCQDrtKsMifHEMHLKzbNhitNiq8qTiqDSxqm5RXnvWLh5-LVT9c3NEwqtzDKTTLNgssbZRnnVC1i5XXPz0_PSVUITk0sSs64xSbJEOYX_jlxxmG2d_uq0ooTFLk0Z0U_OnDPat0iDrGA1PwCoNrEnOJ8hWKwBoW0_KIVHIwAIptIJOsAAAA'}, {'name': 'ResearchG...', 'image': 'https://serpapi.com/searches/67e5735f65da7dd9acf4a216/images/2604f3c0c3736d0cab42229aef5ead4d250827f4294e44a99b67735283bc976bc1015a60ebd1f37d.gif', 'link': 'https://www.google.com/search?sca_esv=d3a22b163d23497b&q=ResearchGate&stick=H4sIAAAAAAAAAOMwVOLSz9U3ME0yKjLJ-MXIsIGF4RULNxcnWNA8N90EzksxKrAseMXCxcUB4hlbmBe9YuHhQtINV2lWmZNjiODlFZtmw5UmxVcVJ5XBJQ3T8orzXrHwc_Hqp-sbGiaVWxjlJplmweWNsoxzqhax8gSlFqcmFiVnuCeWpN5ik2QI8wv_nDjjMNu7fVVpxQmKXJqzoh8duGe1bhGHWEBqfkFOqkJiTnG-AkSTQlp-0QoORgBzp94a7AAAAA&sa=X&ved=2ahUKEwi4scKezqqMAxXOa_UHHSnUADsQs9oBKAB6BAgmEBg', 'serpapi_link': 'https://serpapi.com/search.json?device=desktop&engine=google&google_domain=google.com&q=ResearchGate&stick=H4sIAAAAAAAAAOMwVOLSz9U3ME0yKjLJ-MXIsIGF4RULNxcnWNA8N90EzksxKrAseMXCxcUB4hlbmBe9YuHhQtINV2lWmZNjiODlFZtmw5UmxVcVJ5XBJQ3T8orzXrHwc_Hqp-sbGiaVWxjlJplmweWNsoxzqhax8gSlFqcmFiVnuCeWpN5ik2QI8wv_nDjjMNu7fVVpxQmKXJqzoh8duGe1bhGHWEBqfkFOqkJiTnG-AkSTQlp-0QoORgBzp94a7AAAAA'}, {'name': 'Directory of Open Access Journals', 'image': 'https://serpapi.com/searches/67e5735f65da7dd9acf4a216/images/2604f3c0c3736d0cab42229aef5ead4d250827f4294e44a9adb98608ec79bb316f967879f85e99bb.gif', 'link': 'https://www.google.com/search?sca_esv=d3a22b163d23497b&q=doaj&stick=H4sIAAAAAAAAAOMwVOLUz9U3MKvMyTH8xciwgYXhFQs3F1jM1Dw33QTOSzEqsCx4xcLFxQHiGVuYF71i4eHiAitMMioyyYCrBJuF4OUVm2bDlSbFVxUnlcElDdPyivNesfBz8eqn6xsaJpVbGOUmmWbB5Y2yjHOqFrGypOQnZt1ik2QI8wv_nDjjMNu7fVVpxQmKXJqzoh8duGe1bhGHWEBqfkFOqkJiTnG-QnFqYlFyhkJaftEKDkYAZ34Mm-MAAAA&sa=X&ved=2ahUKEwi4scKezqqMAxXOa_UHHSnUADsQs9oBKAB6BAgmEB0', 'serpapi_link': 'https://serpapi.com/search.json?device=desktop&engine=google&google_domain=google.com&q=doaj&stick=H4sIAAAAAAAAAOMwVOLUz9U3MKvMyTH8xciwgYXhFQs3F1jM1Dw33QTOSzEqsCx4xcLFxQHiGVuYF71i4eHiAitMMioyyYCrBJuF4OUVm2bDlSbFVxUnlcElDdPyivNesfBz8eqn6xsaJpVbGOUmmWbB5Y2yjHOqFrGypOQnZt1ik2QI8wv_nDjjMNu7fVVpxQmKXJqzoh8duGe1bhGHWEBqfkFOqkJiTnG-QnFqYlFyhkJaftEKDkYAZ34Mm-MAAAA'}, {'name': 'ScienceDir...', 'image': 'https://serpapi.com/searches/67e5735f65da7dd9acf4a216/images/2604f3c0c3736d0cab42229aef5ead4d250827f4294e44a9cf7df479ad153ebe7f943a38c5165e39.gif', 'link': 'https://www.google.com/search?sca_esv=d3a22b163d23497b&q=ScienceDirect&stick=H4sIAAAAAAAAAOMwVOLUz9U3MMsrNs3-xciwgYXhFQs3F1jM1Dw33QTOSzEqsCx4xcLFxQHiGVuYF71i4eHiAitMMioyyYCrNKvMyTFE8EAmw5UmxVcVJ5XBJQ3T8orzXrHwc_Hqp-sbGiaVWxjlJplmweWNsoxzqhax8gYnZ6bmJae6ZBalJpfcYpNkCPML_5w44zDbu31VacUJilyas6IfHbhntW4Rh1hAan5BTqpCYk5xvkJxamJRcoZCWn7RCg5GAPD24PPsAAAA&sa=X&ved=2ahUKEwi4scKezqqMAxXOa_UHHSnUADsQs9oBKAB6BAgmECI', 'serpapi_link': 'https://serpapi.com/search.json?device=desktop&engine=google&google_domain=google.com&q=ScienceDirect&stick=H4sIAAAAAAAAAOMwVOLUz9U3MMsrNs3-xciwgYXhFQs3F1jM1Dw33QTOSzEqsCx4xcLFxQHiGVuYF71i4eHiAitMMioyyYCrNKvMyTFE8EAmw5UmxVcVJ5XBJQ3T8orzXrHwc_Hqp-sbGiaVWxjlJplmweWNsoxzqhax8gYnZ6bmJae6ZBalJpfcYpNkCPML_5w44zDbu31VacUJilyas6IfHbhntW4Rh1hAan5BTqpCYk5xvkJxamJRcoZCWn7RCg5GAPD24PPsAAAA'}]}, {'block_position': 1, 'query': 'Search query examples', 'link': 'https://www.google.com/search?sca_esv=d3a22b163d23497b&q=Search+query+examples&sa=X&ved=2ahUKEwi4scKezqqMAxXOa_UHHSnUADsQ1QJ6BAgtEAE', 'serpapi_link': 'https://serpapi.com/search.json?device=desktop&engine=google&google_domain=google.com&q=Search+query+examples'}, {'block_position': 1, 'query': 'Your search query meaning', 'link': 'https://www.google.com/search?sca_esv=d3a22b163d23497b&q=Your+search+query+meaning&sa=X&ved=2ahUKEwi4scKezqqMAxXOa_UHHSnUADsQ1QJ6BAgzEAE', 'serpapi_link': 'https://serpapi.com/search.json?device=desktop&engine=google&google_domain=google.com&q=Your+search+query+meaning'}, {'block_position': 1, 'query': 'Your search query youtube', 'link': 'https://www.google.com/search?sca_esv=d3a22b163d23497b&q=Your+search+query+youtube&sa=X&ved=2ahUKEwi4scKezqqMAxXOa_UHHSnUADsQ1QJ6BAg-EAE', 'serpapi_link': 'https://serpapi.com/search.json?device=desktop&engine=google&google_domain=google.com&q=Your+search+query+youtube'}, {'block_position': 1, 'query': 'Your search query google', 'link': 'https://www.google.com/search?sca_esv=d3a22b163d23497b&q=Your+search+query+google&sa=X&ved=2ahUKEwi4scKezqqMAxXOa_UHHSnUADsQ1QJ6BAg0EAE', 'serpapi_link': 'https://serpapi.com/search.json?device=desktop&engine=google&google_domain=google.com&q=Your+search+query+google'}, {'block_position': 1, 'query': 'Your search query video', 'link': 'https://www.google.com/search?sca_esv=d3a22b163d23497b&q=Your+search+query+video&sa=X&ved=2ahUKEwi4scKezqqMAxXOa_UHHSnUADsQ1QJ6BAgvEAE', 'serpapi_link': 'https://serpapi.com/search.json?device=desktop&engine=google&google_domain=google.com&q=Your+search+query+video'}, {'block_position': 1, 'query': 'Search query Google', 'link': 'https://www.google.com/search?sca_esv=d3a22b163d23497b&q=Search+query+Google&sa=X&ved=2ahUKEwi4scKezqqMAxXOa_UHHSnUADsQ1QJ6BAg5EAE', 'serpapi_link': 'https://serpapi.com/search.json?device=desktop&engine=google&google_domain=google.com&q=Search+query+Google'}, {'block_position': 1, 'query': 'Search query types', 'link': 'https://www.google.com/search?sca_esv=d3a22b163d23497b&q=Search+query+types&sa=X&ved=2ahUKEwi4scKezqqMAxXOa_UHHSnUADsQ1QJ6BAg7EAE', 'serpapi_link': 'https://serpapi.com/search.json?device=desktop&engine=google&google_domain=google.com&q=Search+query+types'}, {'block_position': 1, 'query': 'Search query website', 'link': 'https://www.google.com/search?sca_esv=d3a22b163d23497b&q=Search+query+website&sa=X&ved=2ahUKEwi4scKezqqMAxXOa_UHHSnUADsQ1QJ6BAgrEAE', 'serpapi_link': 'https://serpapi.com/search.json?device=desktop&engine=google&google_domain=google.com&q=Search+query+website'}], 'pagination': {'current': 1, 'next': 'https://www.google.com/search?q=your+search+query&sca_esv=d3a22b163d23497b&ei=YXPlZ_j8Fs7X1e8PqaiD2AM&start=10&sa=N&sstk=Af40H4UGrvqvs1jmiKaFv5riCAqvSqSSgCB73wv95ZXYO5habsxJEwqYQCXdGAQ0-z0fapZF4KcmzMvc8ShojHUPVCjWbgNagt8ZNg&ved=2ahUKEwi4scKezqqMAxXOa_UHHSnUADsQ8NMDegQICBAW', 'other_pages': {'2': 'https://www.google.com/search?q=your+search+query&sca_esv=d3a22b163d23497b&ei=YXPlZ_j8Fs7X1e8PqaiD2AM&start=10&sa=N&sstk=Af40H4UGrvqvs1jmiKaFv5riCAqvSqSSgCB73wv95ZXYO5habsxJEwqYQCXdGAQ0-z0fapZF4KcmzMvc8ShojHUPVCjWbgNagt8ZNg&ved=2ahUKEwi4scKezqqMAxXOa_UHHSnUADsQ8tMDegQICBAE', '3': 'https://www.google.com/search?q=your+search+query&sca_esv=d3a22b163d23497b&ei=YXPlZ_j8Fs7X1e8PqaiD2AM&start=20&sa=N&sstk=Af40H4UGrvqvs1jmiKaFv5riCAqvSqSSgCB73wv95ZXYO5habsxJEwqYQCXdGAQ0-z0fapZF4KcmzMvc8ShojHUPVCjWbgNagt8ZNg&ved=2ahUKEwi4scKezqqMAxXOa_UHHSnUADsQ8tMDegQICBAG', '4': 'https://www.google.com/search?q=your+search+query&sca_esv=d3a22b163d23497b&ei=YXPlZ_j8Fs7X1e8PqaiD2AM&start=30&sa=N&sstk=Af40H4UGrvqvs1jmiKaFv5riCAqvSqSSgCB73wv95ZXYO5habsxJEwqYQCXdGAQ0-z0fapZF4KcmzMvc8ShojHUPVCjWbgNagt8ZNg&ved=2ahUKEwi4scKezqqMAxXOa_UHHSnUADsQ8tMDegQICBAI', '5': 'https://www.google.com/search?q=your+search+query&sca_esv=d3a22b163d23497b&ei=YXPlZ_j8Fs7X1e8PqaiD2AM&start=40&sa=N&sstk=Af40H4UGrvqvs1jmiKaFv5riCAqvSqSSgCB73wv95ZXYO5habsxJEwqYQCXdGAQ0-z0fapZF4KcmzMvc8ShojHUPVCjWbgNagt8ZNg&ved=2ahUKEwi4scKezqqMAxXOa_UHHSnUADsQ8tMDegQICBAK', '6': 'https://www.google.com/search?q=your+search+query&sca_esv=d3a22b163d23497b&ei=YXPlZ_j8Fs7X1e8PqaiD2AM&start=50&sa=N&sstk=Af40H4UGrvqvs1jmiKaFv5riCAqvSqSSgCB73wv95ZXYO5habsxJEwqYQCXdGAQ0-z0fapZF4KcmzMvc8ShojHUPVCjWbgNagt8ZNg&ved=2ahUKEwi4scKezqqMAxXOa_UHHSnUADsQ8tMDegQICBAM', '7': 'https://www.google.com/search?q=your+search+query&sca_esv=d3a22b163d23497b&ei=YXPlZ_j8Fs7X1e8PqaiD2AM&start=60&sa=N&sstk=Af40H4UGrvqvs1jmiKaFv5riCAqvSqSSgCB73wv95ZXYO5habsxJEwqYQCXdGAQ0-z0fapZF4KcmzMvc8ShojHUPVCjWbgNagt8ZNg&ved=2ahUKEwi4scKezqqMAxXOa_UHHSnUADsQ8tMDegQICBAO', '8': 'https://www.google.com/search?q=your+search+query&sca_esv=d3a22b163d23497b&ei=YXPlZ_j8Fs7X1e8PqaiD2AM&start=70&sa=N&sstk=Af40H4UGrvqvs1jmiKaFv5riCAqvSqSSgCB73wv95ZXYO5habsxJEwqYQCXdGAQ0-z0fapZF4KcmzMvc8ShojHUPVCjWbgNagt8ZNg&ved=2ahUKEwi4scKezqqMAxXOa_UHHSnUADsQ8tMDegQICBAQ', '9': 'https://www.google.com/search?q=your+search+query&sca_esv=d3a22b163d23497b&ei=YXPlZ_j8Fs7X1e8PqaiD2AM&start=80&sa=N&sstk=Af40H4UGrvqvs1jmiKaFv5riCAqvSqSSgCB73wv95ZXYO5habsxJEwqYQCXdGAQ0-z0fapZF4KcmzMvc8ShojHUPVCjWbgNagt8ZNg&ved=2ahUKEwi4scKezqqMAxXOa_UHHSnUADsQ8tMDegQICBAS', '10': 'https://www.google.com/search?q=your+search+query&sca_esv=d3a22b163d23497b&ei=YXPlZ_j8Fs7X1e8PqaiD2AM&start=90&sa=N&sstk=Af40H4UGrvqvs1jmiKaFv5riCAqvSqSSgCB73wv95ZXYO5habsxJEwqYQCXdGAQ0-z0fapZF4KcmzMvc8ShojHUPVCjWbgNagt8ZNg&ved=2ahUKEwi4scKezqqMAxXOa_UHHSnUADsQ8tMDegQICBAU'}}, 'serpapi_pagination': {'current': 1, 'next_link': 'https://serpapi.com/search.json?device=desktop&engine=google&google_domain=google.com&q=your+search+query&start=10', 'next': 'https://serpapi.com/search.json?device=desktop&engine=google&google_domain=google.com&q=your+search+query&start=10', 'other_pages': {'2': 'https://serpapi.com/search.json?device=desktop&engine=google&google_domain=google.com&q=your+search+query&start=10', '3': 'https://serpapi.com/search.json?device=desktop&engine=google&google_domain=google.com&q=your+search+query&start=20', '4': 'https://serpapi.com/search.json?device=desktop&engine=google&google_domain=google.com&q=your+search+query&start=30', '5': 'https://serpapi.com/search.json?device=desktop&engine=google&google_domain=google.com&q=your+search+query&start=40', '6': 'https://serpapi.com/search.json?device=desktop&engine=google&google_domain=google.com&q=your+search+query&start=50', '7': 'https://serpapi.com/search.json?device=desktop&engine=google&google_domain=google.com&q=your+search+query&start=60', '8': 'https://serpapi.com/search.json?device=desktop&engine=google&google_domain=google.com&q=your+search+query&start=70', '9': 'https://serpapi.com/search.json?device=desktop&engine=google&google_domain=google.com&q=your+search+query&start=80', '10': 'https://serpapi.com/search.json?device=desktop&engine=google&google_domain=google.com&q=your+search+query&start=90'}}}\n"
          ]
        }
      ]
    },
    {
      "cell_type": "code",
      "source": [
        "results.keys()"
      ],
      "metadata": {
        "colab": {
          "base_uri": "https://localhost:8080/"
        },
        "id": "HA28bLEVSzVV",
        "outputId": "3b351467-03ac-4320-ba1a-e9ad4a85e4a5"
      },
      "execution_count": null,
      "outputs": [
        {
          "output_type": "execute_result",
          "data": {
            "text/plain": [
              "dict_keys(['search_metadata', 'search_parameters', 'search_information', 'knowledge_graph', 'inline_images', 'inline_videos', 'organic_results', 'top_stories_link', 'top_stories_serpapi_link', 'related_searches', 'pagination', 'serpapi_pagination'])"
            ]
          },
          "metadata": {},
          "execution_count": 23
        }
      ]
    },
    {
      "cell_type": "code",
      "source": [
        "results[\"organic_results\"]"
      ],
      "metadata": {
        "colab": {
          "base_uri": "https://localhost:8080/"
        },
        "id": "eZWa0m_VTVbW",
        "outputId": "8dd9e8cf-12fb-45b7-8ed7-b75ddeb50a9b"
      },
      "execution_count": null,
      "outputs": [
        {
          "output_type": "execute_result",
          "data": {
            "text/plain": [
              "[{'position': 1,\n",
              "  'title': 'What is a Search Query? (Definition) - SEO Glossary',\n",
              "  'link': 'https://growhackscale.com/glossary/search-queries',\n",
              "  'redirect_link': 'https://www.google.com/url?sa=t&source=web&rct=j&opi=89978449&url=https://growhackscale.com/glossary/search-queries&ved=2ahUKEwi4scKezqqMAxXOa_UHHSnUADsQFnoECBsQAQ',\n",
              "  'displayed_link': 'https://growhackscale.com › glossary › search-queries',\n",
              "  'favicon': 'https://serpapi.com/searches/67e5735f65da7dd9acf4a216/images/0a99262b0b0b277b9ec197df5b097a36cdfffc959e5d5bf8fb058fbbf36c2ac9.png',\n",
              "  'snippet': 'Search queries are a list of phrases and keywords users enter in search engines to find things of interest.',\n",
              "  'snippet_highlighted_words': ['Search queries are a list of phrases and keywords'],\n",
              "  'source': 'growhackscale.com'},\n",
              " {'position': 2,\n",
              "  'title': 'Search Query Definition',\n",
              "  'link': 'https://www.pageonepower.com/search-glossary/search-query',\n",
              "  'redirect_link': 'https://www.google.com/url?sa=t&source=web&rct=j&opi=89978449&url=https://www.pageonepower.com/search-glossary/search-query&ved=2ahUKEwi4scKezqqMAxXOa_UHHSnUADsQFnoECCAQAQ',\n",
              "  'displayed_link': 'https://www.pageonepower.com › search-glossary › sea...',\n",
              "  'favicon': 'https://serpapi.com/searches/67e5735f65da7dd9acf4a216/images/0a99262b0b0b277b9ec197df5b097a360c49729a83426cb13644848d7f4843f9.png',\n",
              "  'snippet': \"A search query is a word or phrase that an internet user types into a search engine's search box to answer an inquiry or question.\",\n",
              "  'snippet_highlighted_words': [\"a word or phrase that an internet user types into a search engine's search box\"],\n",
              "  'sitelinks': {'inline': [{'title': 'What Is a Search Query?',\n",
              "     'link': 'https://www.pageonepower.com/search-glossary/search-query#sectionone'},\n",
              "    {'title': 'Search Queries vs. Keywords',\n",
              "     'link': 'https://www.pageonepower.com/search-glossary/search-query#sectiontwo'}]},\n",
              "  'source': 'Page One Power'},\n",
              " {'position': 3,\n",
              "  'title': 'The 3 Types of Search Queries & How You Should Target ...',\n",
              "  'link': 'https://www.wordstream.com/blog/ws/2012/12/10/three-types-of-search-queries',\n",
              "  'redirect_link': 'https://www.google.com/url?sa=t&source=web&rct=j&opi=89978449&url=https://www.wordstream.com/blog/ws/2012/12/10/three-types-of-search-queries&ved=2ahUKEwi4scKezqqMAxXOa_UHHSnUADsQFnoECCkQAQ',\n",
              "  'displayed_link': 'https://www.wordstream.com › Blog',\n",
              "  'favicon': 'https://serpapi.com/searches/67e5735f65da7dd9acf4a216/images/0a99262b0b0b277b9ec197df5b097a36ebe1f5c10f1710796fd3ed3dd3e28324.png',\n",
              "  'date': 'Nov 22, 2023',\n",
              "  'snippet': 'Search queries – the words and phrases that people type into a search box in order to pull up a list of results – come in different flavors.',\n",
              "  'snippet_highlighted_words': ['Search queries'],\n",
              "  'source': 'WordStream'},\n",
              " {'position': 4,\n",
              "  'title': 'Refine Google searches',\n",
              "  'link': 'https://support.google.com/websearch/answer/2466433?hl=en',\n",
              "  'redirect_link': 'https://www.google.com/url?sa=t&source=web&rct=j&opi=89978449&url=https://support.google.com/websearch/answer/2466433%3Fhl%3Den&ved=2ahUKEwi4scKezqqMAxXOa_UHHSnUADsQFnoECCoQAQ',\n",
              "  'displayed_link': 'https://support.google.com › websearch › answer',\n",
              "  'favicon': 'https://serpapi.com/searches/67e5735f65da7dd9acf4a216/images/0a99262b0b0b277b9ec197df5b097a36c138f2d6a65045b2e419a6fc0c2d29c6.png',\n",
              "  'snippet': 'Refine Google searches. There are different ways to filter your Google searches to be more precise or to expand in new directions. Advanced search.',\n",
              "  'snippet_highlighted_words': ['Refine Google searches'],\n",
              "  'source': 'Google Help'},\n",
              " {'position': 5,\n",
              "  'title': 'The Key to Writing a Great Search Query',\n",
              "  'link': 'https://www.youtube.com/watch?v=ISDC5RhAong',\n",
              "  'displayed_link': '510+ views · 2 years ago',\n",
              "  'thumbnail': 'https://i.ytimg.com/vi/ISDC5RhAong/mqdefault.jpg?sqp=-oaymwEFCJQBEFM&rs=AMzJL3ny9BdANNLydTJrD_rC50eN1ZGyPw',\n",
              "  'favicon': 'https://serpapi.com/searches/67e5735f65da7dd9acf4a216/images/0a99262b0b0b277b9ec197df5b097a36f3389f4cd8a052d158de325a52116cfb.png',\n",
              "  'snippet': 'Understanding how to effectively search the Internet is an essential “information literacy” skill. Although search engines are getting ...',\n",
              "  'duration': '1:48',\n",
              "  'video_link': 'https://encrypted-vtbn0.gstatic.com/video?q=tbn:ANd9GcQijc0zw7kKP1dBxsMFLHKownwzT1cShmCPOA',\n",
              "  'source': 'YouTube · CyberWise'},\n",
              " {'position': 6,\n",
              "  'title': 'Better Search through Better Queries | by Daniel Tunkelang',\n",
              "  'link': 'https://dtunkelang.medium.com/better-search-through-better-queries-c192412a86e9?source=follow_footer---------2----------------------------',\n",
              "  'redirect_link': 'https://www.google.com/url?sa=t&source=web&rct=j&opi=89978449&url=https://dtunkelang.medium.com/better-search-through-better-queries-c192412a86e9%3Fsource%3Dfollow_footer---------2----------------------------&ved=2ahUKEwi4scKezqqMAxXOa_UHHSnUADsQFnoECCwQAQ',\n",
              "  'displayed_link': '130+ likes · 7 years ago',\n",
              "  'favicon': 'https://serpapi.com/searches/67e5735f65da7dd9acf4a216/images/0a99262b0b0b277b9ec197df5b097a3695b2c125c6ff77c5aa8d6362b825ecd3.png',\n",
              "  'snippet': 'Great search means not only returning the right results, but also helping searchers making the right queries. Most searchers have specific needs in mind.',\n",
              "  'snippet_highlighted_words': ['Great search means not only returning the right results'],\n",
              "  'source': 'Medium · Daniel Tunkelang'},\n",
              " {'position': 7,\n",
              "  'title': 'Search Query Language - Issue Tracker',\n",
              "  'link': 'https://developers.google.com/issue-tracker/concepts/search-query-language',\n",
              "  'redirect_link': 'https://www.google.com/url?sa=t&source=web&rct=j&opi=89978449&url=https://developers.google.com/issue-tracker/concepts/search-query-language&ved=2ahUKEwi4scKezqqMAxXOa_UHHSnUADsQFnoECC4QAQ',\n",
              "  'displayed_link': 'https://developers.google.com › issue-tracker › concepts',\n",
              "  'favicon': 'https://serpapi.com/searches/67e5735f65da7dd9acf4a216/images/0a99262b0b0b277b9ec197df5b097a36c2b4cf596f3d2ba8ab08629fe8911060.png',\n",
              "  'snippet': 'The search query language is the syntax you use to perform issue searches in Google Issue Tracker. You can use the language in search queries you enter in ...',\n",
              "  'snippet_highlighted_words': ['search query language'],\n",
              "  'source': 'Google for Developers'},\n",
              " {'position': 8,\n",
              "  'title': \"Keywords vs. Search Queries: What's the Difference?\",\n",
              "  'link': 'https://www.wordstream.com/blog/ws/2011/05/25/keywords-vs-search-queries',\n",
              "  'redirect_link': 'https://www.google.com/url?sa=t&source=web&rct=j&opi=89978449&url=https://www.wordstream.com/blog/ws/2011/05/25/keywords-vs-search-queries&ved=2ahUKEwi4scKezqqMAxXOa_UHHSnUADsQFnoECCcQAQ',\n",
              "  'displayed_link': 'https://www.wordstream.com › Blog',\n",
              "  'favicon': 'https://serpapi.com/searches/67e5735f65da7dd9acf4a216/images/0a99262b0b0b277b9ec197df5b097a3699669325940531da78353412322b02b4.png',\n",
              "  'date': 'Nov 27, 2023',\n",
              "  'snippet': 'A search query or search term is the actual word or string of words that a search engine user types into the search box.',\n",
              "  'snippet_highlighted_words': ['search query', 'search', 'search', 'search'],\n",
              "  'source': 'WordStream'}]"
            ]
          },
          "metadata": {},
          "execution_count": 24
        }
      ]
    },
    {
      "cell_type": "code",
      "source": [
        "results[\"organic_results\"][0]"
      ],
      "metadata": {
        "colab": {
          "base_uri": "https://localhost:8080/"
        },
        "id": "iALCAcDHVd33",
        "outputId": "a083addf-1cb3-4747-9474-e9c5b3baef33"
      },
      "execution_count": null,
      "outputs": [
        {
          "output_type": "execute_result",
          "data": {
            "text/plain": [
              "{'position': 1,\n",
              " 'title': 'What is a Search Query? (Definition) - SEO Glossary',\n",
              " 'link': 'https://growhackscale.com/glossary/search-queries',\n",
              " 'redirect_link': 'https://www.google.com/url?sa=t&source=web&rct=j&opi=89978449&url=https://growhackscale.com/glossary/search-queries&ved=2ahUKEwi4scKezqqMAxXOa_UHHSnUADsQFnoECBsQAQ',\n",
              " 'displayed_link': 'https://growhackscale.com › glossary › search-queries',\n",
              " 'favicon': 'https://serpapi.com/searches/67e5735f65da7dd9acf4a216/images/0a99262b0b0b277b9ec197df5b097a36cdfffc959e5d5bf8fb058fbbf36c2ac9.png',\n",
              " 'snippet': 'Search queries are a list of phrases and keywords users enter in search engines to find things of interest.',\n",
              " 'snippet_highlighted_words': ['Search queries are a list of phrases and keywords'],\n",
              " 'source': 'growhackscale.com'}"
            ]
          },
          "metadata": {},
          "execution_count": 25
        }
      ]
    },
    {
      "cell_type": "code",
      "source": [
        "results[\"organic_results\"][0][\"title\"]"
      ],
      "metadata": {
        "colab": {
          "base_uri": "https://localhost:8080/",
          "height": 35
        },
        "id": "BSnHtcsSXnB6",
        "outputId": "d07f2dbe-74b7-4e66-895e-527688c7458c"
      },
      "execution_count": null,
      "outputs": [
        {
          "output_type": "execute_result",
          "data": {
            "text/plain": [
              "'What is a Search Query? (Definition) - SEO Glossary'"
            ],
            "application/vnd.google.colaboratory.intrinsic+json": {
              "type": "string"
            }
          },
          "metadata": {},
          "execution_count": 26
        }
      ]
    },
    {
      "cell_type": "code",
      "source": [
        "results[\"organic_results\"][0][\"link\"]"
      ],
      "metadata": {
        "colab": {
          "base_uri": "https://localhost:8080/",
          "height": 35
        },
        "id": "ylJ6ZtqNXuiG",
        "outputId": "88366bfb-5012-498a-8fc0-9ebcbcaf1d02"
      },
      "execution_count": null,
      "outputs": [
        {
          "output_type": "execute_result",
          "data": {
            "text/plain": [
              "'https://growhackscale.com/glossary/search-queries'"
            ],
            "application/vnd.google.colaboratory.intrinsic+json": {
              "type": "string"
            }
          },
          "metadata": {},
          "execution_count": 27
        }
      ]
    },
    {
      "cell_type": "markdown",
      "source": [
        "# Privacy policy search"
      ],
      "metadata": {
        "id": "lS7cI-gvYA_G"
      }
    },
    {
      "cell_type": "code",
      "source": [
        "companyName = \"Ford\""
      ],
      "metadata": {
        "id": "0OqvJt0qYhzi"
      },
      "execution_count": null,
      "outputs": []
    },
    {
      "cell_type": "code",
      "source": [
        "params = {\n",
        "  \"engine\": \"google\",\n",
        "  \"q\": f\"Give me the privacy policy of {companyName} pdf\",\n",
        "  \"api_key\": f\"{API_KEY}\"\n",
        "}\n",
        "search = GoogleSearch(params)\n",
        "results = search.get_dict()\n",
        "print(results)"
      ],
      "metadata": {
        "colab": {
          "base_uri": "https://localhost:8080/"
        },
        "id": "Wbtipai0YJfC",
        "outputId": "069968a8-1f2c-4836-8d7a-d5f781819863"
      },
      "execution_count": null,
      "outputs": [
        {
          "output_type": "stream",
          "name": "stdout",
          "text": [
            "{'search_metadata': {'id': '67e57c5cbb5bfcd065705c8a', 'status': 'Success', 'json_endpoint': 'https://serpapi.com/searches/7d4c6875df75268a/67e57c5cbb5bfcd065705c8a.json', 'created_at': '2025-03-27 16:27:08 UTC', 'processed_at': '2025-03-27 16:27:08 UTC', 'google_url': 'https://www.google.com/search?q=Give+me+the+privacy+policy+of+Ford+pdf&oq=Give+me+the+privacy+policy+of+Ford+pdf&sourceid=chrome&ie=UTF-8', 'raw_html_file': 'https://serpapi.com/searches/7d4c6875df75268a/67e57c5cbb5bfcd065705c8a.html', 'total_time_taken': 7.78}, 'search_parameters': {'engine': 'google', 'q': 'Give me the privacy policy of Ford pdf', 'google_domain': 'google.com', 'device': 'desktop'}, 'search_information': {'query_displayed': 'Give me the privacy policy of Ford pdf', 'total_results': 123000000, 'time_taken_displayed': 0.43, 'organic_results_state': 'Results for exact spelling'}, 'knowledge_graph': {'entity_type': 'related_questions'}, 'inline_images': [{'source': 'https://www.ford.com/help/privacy/', 'thumbnail': 'https://encrypted-tbn0.gstatic.com/images?q=tbn:ANd9GcSnUB60Ih-B6mjduGCUGex0ybWNrU_rScPafQP88OmCUJ5F-g9RU7B2xlw&s', 'original': 'https://www.vdm.ford.com/content/dam/brand_ford/en_us/brand/sales-events/truck-month/15-16/CTM_Pack_Mobile_358x320.jpg', 'title': 'Ford® Privacy Policy | Ford.com', 'source_name': 'Ford'}, {'source': 'https://www.ford.com/help/privacy/', 'thumbnail': 'https://encrypted-tbn0.gstatic.com/images?q=tbn:ANd9GcQwijH90Q23MG5LikS2LBrUL_KSZKhYYUNPbEXJUJf-ZUVF3HDckDgJHds&s', 'original': 'https://www.vdm.ford.com/content/dam/brand_ford/en_us/brand/homepage-re-imagine/mobile/Global-Nav-Banner_Mobile_1.jpg', 'title': 'Ford® Privacy Policy | Ford.com', 'source_name': 'Ford'}, {'source': 'https://www.ford.com/help/privacy/', 'thumbnail': 'https://encrypted-tbn0.gstatic.com/images?q=tbn:ANd9GcRrgkmMwiThXHb42v0WzA0F49Htcy7Jwd10oZEc6I4vUo9s5QqpgC_UfoQ&s', 'original': 'https://www.vdm.ford.com/content/dam/brand_ford/en_us/brand/sales-events/truck-month/15-16/25-Truck-Month-Global-Nav_Mobile_03.jpg', 'title': 'Ford® Privacy Policy | Ford.com', 'source_name': 'Ford'}, {'source': 'https://www.fordhouse.org/privacy-policy/', 'thumbnail': 'https://encrypted-tbn0.gstatic.com/images?q=tbn:ANd9GcRZ_jryYHsSyJZUSQp4ws36ZNMDUkFvscVsBRaKj2ArdJWGSwm1dbdYKTI&s', 'original': 'https://www.fordhouse.org/wp-content/uploads/2023/12/Privacy-Social-Template.jpg', 'title': 'Privacy Policy - Ford House', 'source_name': 'Ford House'}, {'source': 'https://www.ford.com/help/privacy/', 'thumbnail': 'https://encrypted-tbn0.gstatic.com/images?q=tbn:ANd9GcSCUMQnVirF2EVJVMNB9w8RAMXgxBcj0nyuCSkoTxafiXiNHpSGSuSsIXs&s', 'original': 'https://www.vdm.ford.com/content/dam/brand_ford/en_us/brand/sales-events/truck-month/3-2/25-Truck-Month-Global-Nav_Desktop_02.jpg', 'title': 'Ford® Privacy Policy | Ford.com', 'source_name': 'Ford'}, {'source': 'https://corporate.ford.com/social-impact/sustainability/integrated-report-additional-documents.html', 'thumbnail': 'https://encrypted-tbn0.gstatic.com/images?q=tbn:ANd9GcRNiFlKoJiO6Se5fQHkSMf68w0as7p4Jwlrg1dsFPvXn9XGFx7iz6Jwtwo&s', 'original': 'https://corporate.ford.com/social-impact/sustainability/integrated-report-additional-documents/_jcr_content/root/responsivegrid/container_copy_copy__1761716395/content/text_media/image.coreimg.jpeg/1713361583409/sustainability-report-cover-text-plus-media-1214x748-d.jpeg', 'title': 'Additional Downloads', 'source_name': 'Ford Corporate'}, {'source': 'https://www.ford.com/help/privacy/', 'thumbnail': 'https://encrypted-tbn0.gstatic.com/images?q=tbn:ANd9GcSyrxQNAMNlPfk8l-kLVgrhwm7-uNuXA6rdyrXlNls_Y3CeR1p0kg5ct2I&s', 'original': 'https://www.vdm.ford.com/content/dam/vdm_ford/live/en_us/ford/nameplate/ranger/2024/collections/3-2/p703_fna_shot_35_xxxxx_ext_profile_b_p_jellybean_v01_lr.jpg/jcr:content/renditions/cq5dam.web.1280.1280.jpeg', 'title': 'Ford® Privacy Policy | Ford.com', 'source_name': 'Ford'}, {'source': 'https://www.ford.com/help/privacy/', 'thumbnail': 'https://encrypted-tbn0.gstatic.com/images?q=tbn:ANd9GcRgqV7TJo2VKQxTsGywrTbmvGHvg5cKXC2s70hx-eifZwXF9fMD102M5ys&s', 'original': 'https://www.vdm.ford.com/content/dam/brand_ford/en_us/brand/sales-events/truck-month/3-2/CTM_Pack_Desktop_880x152_v2.jpg', 'title': 'Ford® Privacy Policy | Ford.com', 'source_name': 'Ford'}, {'source': 'https://www.ford.ie/useful-information/terms-and-privacy-policy-hub', 'thumbnail': 'https://encrypted-tbn0.gstatic.com/images?q=tbn:ANd9GcRm7IByq6BiZpTp8poLNMLJKIgiPedOTzmVxRihA3brH3cgFRydMG6p-KA&s', 'original': 'https://www.ford.ie/content/dam/guxeu/rhd/central/useful-information/policy-icons/FordPass_Privacy-Policy.png.renditions.original.png', 'title': 'Ford Terms & Privacy Policy Hub | Ford IE', 'source_name': 'Ford IE'}], 'related_questions': [{'question': 'What type of data does Ford collect?', 'snippet': 'Vehicle Location: Non-precise or precise location/GPS information, including current vehicle location, travel direction, speed, charging locations used (if applicable), and information about the environment where the vehicle is operated (such as weather, road segment data, trail and road surface conditions and geometry ...', 'title': 'FordPass™ Privacy Policy', 'link': 'https://www.ford.com/support/how-tos/fordpass/manage-my-fordpass-account/fordpass-privacy-policy/#:~:text=Vehicle%20Location%3A%20Non%2Dprecise%20or,road%20surface%20conditions%20and%20geometry', 'displayed_link': 'https://www.ford.com › manage-my-fordpass-account', 'source_logo': 'https://serpapi.com/searches/67e57c5cbb5bfcd065705c8a/images/2051938fa7620f38dd39f4763ee4051a39676555e74eb9e048be507689d7e8af.png', 'next_page_token': 'eyJvbnMiOiIxMDA0MSIsImZjIjoiRXFFQkNtSkJRUzFMVkdoa1J6SmlOR05RWDFKU1NHaHVlbm81TjBkRU56RTNURTlmVVRObWJETlRaRk40TkVKRE1HdDZUbGczWDFOa1RUaGphMFJyU0ZGeFlWbEphbE00WkdwYU1rMUhhRTVGUVd0aU0zWlRkbmxqUWxkdk0ydFlNSGxpVjNoVFp4SVhXVE42YkZvM0xXWkROa05RZG5Jd1VEazRZbWsyUVZFYUlrRkRSRmhNTkc1eE5HZHJaWFJvV1RGeldFcGZNbTQxYzAxaGNHaHhabVZTTkZFIiwiZmN2IjoiMyIsImVpIjoiWTN6bFo3LWZDNkNQdnIwUDk4Ymk2QVEiLCJxYyI6IkNpWm5hWFpsSUcxbElIUm9aU0J3Y21sMllXTjVJSEJ2YkdsamVTQnZaaUJtYjNKa0lIQmtaaEFBZlRadVJUOCIsInF1ZXN0aW9uIjoiV2hhdCB0eXBlIG9mIGRhdGEgZG9lcyBGb3JkIGNvbGxlY3Q/IiwibGsiOiJHaU4zYUdGMElIUjVjR1VnYjJZZ1pHRjBZU0JrYjJWeklHWnZjbVFnWTI5c2JHVmpkQSIsImJzIjoiYzNYT3V3ckNNQlFHWUJ6TjVDTFdJbkxBQzlZeEQyQVhFVjJrbS1DV3BpazVVSHRLR3lrLWd5X200emc1MjZZS1Jlci1fUmNXc1BsSkN3UG1saW1nR0NKaEJFU2tDdGhSSG9Ha0pGSFMtTTQ5NEF0M1ZuYlR1RVhabGkxdG84Z1ZHSzFBR1kxU0pKQlJnaElyWFVYcmJ0OTVqZm5JSGRyd0wySm41dTJwck9yaEFKUVpvS3Y1QnB2aHp4eFM2anZQUGwtN0s5MTRiUHU0dzdNajgteERMT3pCVUJRb0FkUEtYa1FOUUlSMXZEbjUyUENwT19sbjZ2NUI3dzAiLCJpZCI6ImZjX1kzemxaNy1mQzZDUHZyMFA5OGJpNkFRXzMifQ==', 'serpapi_link': 'https://serpapi.com/search.json?device=desktop&engine=google_related_questions&google_domain=google.com&next_page_token=eyJvbnMiOiIxMDA0MSIsImZjIjoiRXFFQkNtSkJRUzFMVkdoa1J6SmlOR05RWDFKU1NHaHVlbm81TjBkRU56RTNURTlmVVRObWJETlRaRk40TkVKRE1HdDZUbGczWDFOa1RUaGphMFJyU0ZGeFlWbEphbE00WkdwYU1rMUhhRTVGUVd0aU0zWlRkbmxqUWxkdk0ydFlNSGxpVjNoVFp4SVhXVE42YkZvM0xXWkROa05RZG5Jd1VEazRZbWsyUVZFYUlrRkRSRmhNTkc1eE5HZHJaWFJvV1RGeldFcGZNbTQxYzAxaGNHaHhabVZTTkZFIiwiZmN2IjoiMyIsImVpIjoiWTN6bFo3LWZDNkNQdnIwUDk4Ymk2QVEiLCJxYyI6IkNpWm5hWFpsSUcxbElIUm9aU0J3Y21sMllXTjVJSEJ2YkdsamVTQnZaaUJtYjNKa0lIQmtaaEFBZlRadVJUOCIsInF1ZXN0aW9uIjoiV2hhdCB0eXBlIG9mIGRhdGEgZG9lcyBGb3JkIGNvbGxlY3Q%2FIiwibGsiOiJHaU4zYUdGMElIUjVjR1VnYjJZZ1pHRjBZU0JrYjJWeklHWnZjbVFnWTI5c2JHVmpkQSIsImJzIjoiYzNYT3V3ckNNQlFHWUJ6TjVDTFdJbkxBQzlZeEQyQVhFVjJrbS1DV3BpazVVSHRLR3lrLWd5X200emc1MjZZS1Jlci1fUmNXc1BsSkN3UG1saW1nR0NKaEJFU2tDdGhSSG9Ha0pGSFMtTTQ5NEF0M1ZuYlR1RVhabGkxdG84Z1ZHSzFBR1kxU0pKQlJnaElyWFVYcmJ0OTVqZm5JSGRyd0wySm41dTJwck9yaEFKUVpvS3Y1QnB2aHp4eFM2anZQUGwtN0s5MTRiUHU0dzdNajgteERMT3pCVUJRb0FkUEtYa1FOUUlSMXZEbjUyUENwT19sbjZ2NUI3dzAiLCJpZCI6ImZjX1kzemxaNy1mQzZDUHZyMFA5OGJpNkFRXzMifQ%3D%3D'}, {'question': 'What are the ethical policies of Ford?', 'snippet': 'We shall make accurate claims to our customers, use only competent testimonials, and strive to be open about all aspects of the products or services we offer. We shall uphold the principle of fair play and be vigilant against conduct which has the intent, capability, or effect of being deceptive towards our customers.', 'title': 'Code of Ethics - Ford Global Brand Licensing', 'link': 'https://www.fordbrandlicensing.com/Code-of-Ethics#:~:text=We%20shall%20make%20accurate%20claims,products%20or%20services%20we%20offer.&text=We%20shall%20uphold%20the%20principle,being%20deceptive%20towards%20our%20customers.', 'displayed_link': 'https://www.fordbrandlicensing.com › Code-of-Ethics', 'source_logo': None, 'next_page_token': 'eyJvbnMiOiIxMDA0MSIsImZjIjoiRXFFQkNtSkJRUzFMVkdoa1J6SmlOR05RWDFKU1NHaHVlbm81TjBkRU56RTNURTlmVVRObWJETlRaRk40TkVKRE1HdDZUbGczWDFOa1RUaGphMFJyU0ZGeFlWbEphbE00WkdwYU1rMUhhRTVGUVd0aU0zWlRkbmxqUWxkdk0ydFlNSGxpVjNoVFp4SVhXVE42YkZvM0xXWkROa05RZG5Jd1VEazRZbWsyUVZFYUlrRkRSRmhNTkc1eE5HZHJaWFJvV1RGeldFcGZNbTQxYzAxaGNHaHhabVZTTkZFIiwiZmN2IjoiMyIsImVpIjoiWTN6bFo3LWZDNkNQdnIwUDk4Ymk2QVEiLCJxYyI6IkNpWm5hWFpsSUcxbElIUm9aU0J3Y21sMllXTjVJSEJ2YkdsamVTQnZaaUJtYjNKa0lIQmtaaEFBZlRadVJUOCIsInF1ZXN0aW9uIjoiV2hhdCBhcmUgdGhlIGV0aGljYWwgcG9saWNpZXMgb2YgRm9yZD8iLCJsayI6IkdoVm1iM0prSUdWMGFHbGpZV3dnY0c5c2FXTnBaWE0iLCJicyI6ImMzWE91d3JDTUJRR1lCek41Q0xXSW5MQUM5WXhEMkFYRVYya20tQ1dwaWs1VUh0S0d5ay1neV9tNHpnNTI2WUtSZXItX1JjV3NQbEpDd1BtbGltZ0dDSmhCRVNrQ3RoUkhvR2tKRkhTLU00OTRBdDNWbmJUdUVYWmxpMXRvOGdWR0sxQUdZMVNKSkJSZ2hJclhVWHJidDk1amZuSUhkcndMMkpuNXUycHJPcmhBSlFab0t2NUJwdmh6eHhTNmp2UFBsLTdLOTE0YlB1NHc3TWo4LXhETE96QlVCUW9BZFBLWGtRTlFJUjF2RG41MlBDcE9fbG42djVCN3cwIiwiaWQiOiJmY19ZM3psWjctZkM2Q1B2cjBQOThiaTZBUV8zIn0=', 'serpapi_link': 'https://serpapi.com/search.json?device=desktop&engine=google_related_questions&google_domain=google.com&next_page_token=eyJvbnMiOiIxMDA0MSIsImZjIjoiRXFFQkNtSkJRUzFMVkdoa1J6SmlOR05RWDFKU1NHaHVlbm81TjBkRU56RTNURTlmVVRObWJETlRaRk40TkVKRE1HdDZUbGczWDFOa1RUaGphMFJyU0ZGeFlWbEphbE00WkdwYU1rMUhhRTVGUVd0aU0zWlRkbmxqUWxkdk0ydFlNSGxpVjNoVFp4SVhXVE42YkZvM0xXWkROa05RZG5Jd1VEazRZbWsyUVZFYUlrRkRSRmhNTkc1eE5HZHJaWFJvV1RGeldFcGZNbTQxYzAxaGNHaHhabVZTTkZFIiwiZmN2IjoiMyIsImVpIjoiWTN6bFo3LWZDNkNQdnIwUDk4Ymk2QVEiLCJxYyI6IkNpWm5hWFpsSUcxbElIUm9aU0J3Y21sMllXTjVJSEJ2YkdsamVTQnZaaUJtYjNKa0lIQmtaaEFBZlRadVJUOCIsInF1ZXN0aW9uIjoiV2hhdCBhcmUgdGhlIGV0aGljYWwgcG9saWNpZXMgb2YgRm9yZD8iLCJsayI6IkdoVm1iM0prSUdWMGFHbGpZV3dnY0c5c2FXTnBaWE0iLCJicyI6ImMzWE91d3JDTUJRR1lCek41Q0xXSW5MQUM5WXhEMkFYRVYya20tQ1dwaWs1VUh0S0d5ay1neV9tNHpnNTI2WUtSZXItX1JjV3NQbEpDd1BtbGltZ0dDSmhCRVNrQ3RoUkhvR2tKRkhTLU00OTRBdDNWbmJUdUVYWmxpMXRvOGdWR0sxQUdZMVNKSkJSZ2hJclhVWHJidDk1amZuSUhkcndMMkpuNXUycHJPcmhBSlFab0t2NUJwdmh6eHhTNmp2UFBsLTdLOTE0YlB1NHc3TWo4LXhETE96QlVCUW9BZFBLWGtRTlFJUjF2RG41MlBDcE9fbG42djVCN3cwIiwiaWQiOiJmY19ZM3psWjctZkM2Q1B2cjBQOThiaTZBUV8zIn0%3D'}, {'question': 'How do I opt out of Ford data collection?', 'snippet': 'To opt out of the collection of information through those Cookies, change the toggle by moving the toggle to the left (so it is grayed out) and click “Confirm My Choices.” If you later change your mind, you can opt back in by sliding the toggle to the right (so it is blue) and click “Confirm My Choices.”', 'title': 'How do I turn off data sharing in my vehicle? - Ford', 'link': 'https://www.ford.com/support/how-tos/sync/sync-4/how-do-i-turn-off-data-sharing-in-my-vehicle/#:~:text=To%20opt%20out%20of%20the,click%20%E2%80%9CConfirm%20My%20Choices.%E2%80%9D', 'displayed_link': 'https://www.ford.com › support › how-tos › sync › sync-4', 'source_logo': 'https://serpapi.com/searches/67e57c5cbb5bfcd065705c8a/images/2051938fa7620f38dd39f4763ee4051a71d92c6f7d71e5156780640bed95a69d.png', 'next_page_token': 'eyJvbnMiOiIxMDA0MSIsImZjIjoiRXFFQkNtSkJRUzFMVkdoa1J6SmlOR05RWDFKU1NHaHVlbm81TjBkRU56RTNURTlmVVRObWJETlRaRk40TkVKRE1HdDZUbGczWDFOa1RUaGphMFJyU0ZGeFlWbEphbE00WkdwYU1rMUhhRTVGUVd0aU0zWlRkbmxqUWxkdk0ydFlNSGxpVjNoVFp4SVhXVE42YkZvM0xXWkROa05RZG5Jd1VEazRZbWsyUVZFYUlrRkRSRmhNTkc1eE5HZHJaWFJvV1RGeldFcGZNbTQxYzAxaGNHaHhabVZTTkZFIiwiZmN2IjoiMyIsImVpIjoiWTN6bFo3LWZDNkNQdnIwUDk4Ymk2QVEiLCJxYyI6IkNpWm5hWFpsSUcxbElIUm9aU0J3Y21sMllXTjVJSEJ2YkdsamVTQnZaaUJtYjNKa0lIQmtaaEFBZlRadVJUOCIsInF1ZXN0aW9uIjoiSG93IGRvIEkgb3B0IG91dCBvZiBGb3JkIGRhdGEgY29sbGVjdGlvbj8iLCJsayI6IkdpaG9iM2NnWkc4Z2FTQnZjSFFnYjNWMElHOW1JR1p2Y21RZ1pHRjBZU0JqYjJ4c1pXTjBhVzl1IiwiYnMiOiJjM1hPdXdyQ01CUUdZQnpONUNMV0luTEFDOVl4RDJBWEVWMmttLUNXcGlrNVVIdEtHeWstZ3lfbTR6ZzUyNllLUmVyLV9SY1dzUGxKQ3dQbWxpbWdHQ0poQkVTa0N0aFJIb0drSkZIUy1NNDk0QXQzVm5iVHVFWFpsaTF0bzhnVkdLMUFHWTFTSkpCUmdoSXJYVVhyYnQ5NWpmbklIZHJ3TDJKbjV1MnByT3JoQUpRWm9LdjVCcHZoenh4UzZqdlBQbC03SzkxNGJQdTR3N01qOC14RExPekJVQlFvQWRQS1hrUU5RSVIxdkRuNTJQQ3BPX2xuNnY1Qjd3MCIsImlkIjoiZmNfWTN6bFo3LWZDNkNQdnIwUDk4Ymk2QVFfMyJ9', 'serpapi_link': 'https://serpapi.com/search.json?device=desktop&engine=google_related_questions&google_domain=google.com&next_page_token=eyJvbnMiOiIxMDA0MSIsImZjIjoiRXFFQkNtSkJRUzFMVkdoa1J6SmlOR05RWDFKU1NHaHVlbm81TjBkRU56RTNURTlmVVRObWJETlRaRk40TkVKRE1HdDZUbGczWDFOa1RUaGphMFJyU0ZGeFlWbEphbE00WkdwYU1rMUhhRTVGUVd0aU0zWlRkbmxqUWxkdk0ydFlNSGxpVjNoVFp4SVhXVE42YkZvM0xXWkROa05RZG5Jd1VEazRZbWsyUVZFYUlrRkRSRmhNTkc1eE5HZHJaWFJvV1RGeldFcGZNbTQxYzAxaGNHaHhabVZTTkZFIiwiZmN2IjoiMyIsImVpIjoiWTN6bFo3LWZDNkNQdnIwUDk4Ymk2QVEiLCJxYyI6IkNpWm5hWFpsSUcxbElIUm9aU0J3Y21sMllXTjVJSEJ2YkdsamVTQnZaaUJtYjNKa0lIQmtaaEFBZlRadVJUOCIsInF1ZXN0aW9uIjoiSG93IGRvIEkgb3B0IG91dCBvZiBGb3JkIGRhdGEgY29sbGVjdGlvbj8iLCJsayI6IkdpaG9iM2NnWkc4Z2FTQnZjSFFnYjNWMElHOW1JR1p2Y21RZ1pHRjBZU0JqYjJ4c1pXTjBhVzl1IiwiYnMiOiJjM1hPdXdyQ01CUUdZQnpONUNMV0luTEFDOVl4RDJBWEVWMmttLUNXcGlrNVVIdEtHeWstZ3lfbTR6ZzUyNllLUmVyLV9SY1dzUGxKQ3dQbWxpbWdHQ0poQkVTa0N0aFJIb0drSkZIUy1NNDk0QXQzVm5iVHVFWFpsaTF0bzhnVkdLMUFHWTFTSkpCUmdoSXJYVVhyYnQ5NWpmbklIZHJ3TDJKbjV1MnByT3JoQUpRWm9LdjVCcHZoenh4UzZqdlBQbC03SzkxNGJQdTR3N01qOC14RExPekJVQlFvQWRQS1hrUU5RSVIxdkRuNTJQQ3BPX2xuNnY1Qjd3MCIsImlkIjoiZmNfWTN6bFo3LWZDNkNQdnIwUDk4Ymk2QVFfMyJ9'}, {'question': 'What is the basic information about Ford?', 'snippet': 'It was founded by Henry Ford and incorporated on June 16, 1903. The company sells automobiles and commercial vehicles under the Ford brand, and luxury cars under its Lincoln brand. The company is listed on the New York Stock Exchange and is controlled by the Ford family.', 'title': 'Ford Motor Company - Wikipedia', 'link': 'https://en.wikipedia.org/wiki/Ford_Motor_Company#:~:text=It%20was%20founded%20by%20Henry,controlled%20by%20the%20Ford%20family.', 'displayed_link': 'https://en.wikipedia.org › wiki › Ford_Motor_Company', 'source_logo': 'https://serpapi.com/searches/67e57c5cbb5bfcd065705c8a/images/2051938fa7620f38dd39f4763ee4051ae6592d5b315d79824e5dacc39cd90311.png', 'next_page_token': 'eyJvbnMiOiIxMDA0MSIsImZjIjoiRXFFQkNtSkJRUzFMVkdoa1J6SmlOR05RWDFKU1NHaHVlbm81TjBkRU56RTNURTlmVVRObWJETlRaRk40TkVKRE1HdDZUbGczWDFOa1RUaGphMFJyU0ZGeFlWbEphbE00WkdwYU1rMUhhRTVGUVd0aU0zWlRkbmxqUWxkdk0ydFlNSGxpVjNoVFp4SVhXVE42YkZvM0xXWkROa05RZG5Jd1VEazRZbWsyUVZFYUlrRkRSRmhNTkc1eE5HZHJaWFJvV1RGeldFcGZNbTQxYzAxaGNHaHhabVZTTkZFIiwiZmN2IjoiMyIsImVpIjoiWTN6bFo3LWZDNkNQdnIwUDk4Ymk2QVEiLCJxYyI6IkNpWm5hWFpsSUcxbElIUm9aU0J3Y21sMllXTjVJSEJ2YkdsamVTQnZaaUJtYjNKa0lIQmtaaEFBZlRadVJUOCIsInF1ZXN0aW9uIjoiV2hhdCBpcyB0aGUgYmFzaWMgaW5mb3JtYXRpb24gYWJvdXQgRm9yZD8iLCJsayI6IkdoeGlZWE5wWXlCcGJtWnZjbTFoZEdsdmJpQmhZbTkxZENCbWIzSmsiLCJicyI6ImMzWE91d3JDTUJRR1lCek41Q0xXSW5MQUM5WXhEMkFYRVYya20tQ1dwaWs1VUh0S0d5ay1neV9tNHpnNTI2WUtSZXItX1JjV3NQbEpDd1BtbGltZ0dDSmhCRVNrQ3RoUkhvR2tKRkhTLU00OTRBdDNWbmJUdUVYWmxpMXRvOGdWR0sxQUdZMVNKSkJSZ2hJclhVWHJidDk1amZuSUhkcndMMkpuNXUycHJPcmhBSlFab0t2NUJwdmh6eHhTNmp2UFBsLTdLOTE0YlB1NHc3TWo4LXhETE96QlVCUW9BZFBLWGtRTlFJUjF2RG41MlBDcE9fbG42djVCN3cwIiwiaWQiOiJmY19ZM3psWjctZkM2Q1B2cjBQOThiaTZBUV8zIn0=', 'serpapi_link': 'https://serpapi.com/search.json?device=desktop&engine=google_related_questions&google_domain=google.com&next_page_token=eyJvbnMiOiIxMDA0MSIsImZjIjoiRXFFQkNtSkJRUzFMVkdoa1J6SmlOR05RWDFKU1NHaHVlbm81TjBkRU56RTNURTlmVVRObWJETlRaRk40TkVKRE1HdDZUbGczWDFOa1RUaGphMFJyU0ZGeFlWbEphbE00WkdwYU1rMUhhRTVGUVd0aU0zWlRkbmxqUWxkdk0ydFlNSGxpVjNoVFp4SVhXVE42YkZvM0xXWkROa05RZG5Jd1VEazRZbWsyUVZFYUlrRkRSRmhNTkc1eE5HZHJaWFJvV1RGeldFcGZNbTQxYzAxaGNHaHhabVZTTkZFIiwiZmN2IjoiMyIsImVpIjoiWTN6bFo3LWZDNkNQdnIwUDk4Ymk2QVEiLCJxYyI6IkNpWm5hWFpsSUcxbElIUm9aU0J3Y21sMllXTjVJSEJ2YkdsamVTQnZaaUJtYjNKa0lIQmtaaEFBZlRadVJUOCIsInF1ZXN0aW9uIjoiV2hhdCBpcyB0aGUgYmFzaWMgaW5mb3JtYXRpb24gYWJvdXQgRm9yZD8iLCJsayI6IkdoeGlZWE5wWXlCcGJtWnZjbTFoZEdsdmJpQmhZbTkxZENCbWIzSmsiLCJicyI6ImMzWE91d3JDTUJRR1lCek41Q0xXSW5MQUM5WXhEMkFYRVYya20tQ1dwaWs1VUh0S0d5ay1neV9tNHpnNTI2WUtSZXItX1JjV3NQbEpDd1BtbGltZ0dDSmhCRVNrQ3RoUkhvR2tKRkhTLU00OTRBdDNWbmJUdUVYWmxpMXRvOGdWR0sxQUdZMVNKSkJSZ2hJclhVWHJidDk1amZuSUhkcndMMkpuNXUycHJPcmhBSlFab0t2NUJwdmh6eHhTNmp2UFBsLTdLOTE0YlB1NHc3TWo4LXhETE96QlVCUW9BZFBLWGtRTlFJUjF2RG41MlBDcE9fbG42djVCN3cwIiwiaWQiOiJmY19ZM3psWjctZkM2Q1B2cjBQOThiaTZBUV8zIn0%3D'}], 'organic_results': [{'position': 1, 'title': 'Ford® Privacy Policy | Ford.com', 'link': 'https://www.ford.com/help/privacy/', 'redirect_link': 'https://www.google.com/url?sa=t&source=web&rct=j&opi=89978449&url=https://www.ford.com/help/privacy/&ved=2ahUKEwj_3IHq1qqMAxWgh68BHXejGE0QFnoECBwQAQ', 'displayed_link': 'https://www.ford.com › help › privacy', 'favicon': 'https://serpapi.com/searches/67e57c5cbb5bfcd065705c8a/images/f78c8ec516a4891374ee905d60dfb250c95014ef8f8d1ad5eb90794b3b1889ae.jpeg', 'snippet': 'This privacy statement explains our policies and practices regarding online customer information on ford.com & owner.ford.com.', 'snippet_highlighted_words': ['privacy statement', 'ford', 'ford'], 'source': 'Ford'}, {'position': 2, 'title': 'IMPORTANT PRIVACY CHOICES FOR CONSUMERS', 'link': 'https://www.ford.com/finance/content/dam/ford64/us/pdf/privacy/US--EngCAOnlinesupp_8_12.pdf', 'redirect_link': 'https://www.google.com/url?sa=t&source=web&rct=j&opi=89978449&url=https://www.ford.com/finance/content/dam/ford64/us/pdf/privacy/US--EngCAOnlinesupp_8_12.pdf&ved=2ahUKEwj_3IHq1qqMAxWgh68BHXejGE0QFnoECBsQAQ', 'displayed_link': 'https://www.ford.com › ford64 › pdf › privacy', 'favicon': 'https://serpapi.com/searches/67e57c5cbb5bfcd065705c8a/images/f78c8ec516a4891374ee905d60dfb250407cbdabafd062d9fafe5bd4903d92e2.jpeg', 'snippet': 'Your Rights. You have the following rights to restrict the sharing of personal and financial information with our affiliates (companies we own or control) ...', 'source': 'Ford'}, {'position': 3, 'title': 'fordcommercialvehiclecenter.com Privacy Statement', 'link': 'https://fordcommercialvehiclecenter.com/terms.pdf', 'redirect_link': 'https://www.google.com/url?sa=t&source=web&rct=j&opi=89978449&url=https://fordcommercialvehiclecenter.com/terms.pdf&ved=2ahUKEwj_3IHq1qqMAxWgh68BHXejGE0QFnoECCIQAQ', 'displayed_link': 'https://fordcommercialvehiclecenter.com › terms', 'favicon': 'https://serpapi.com/searches/67e57c5cbb5bfcd065705c8a/images/f78c8ec516a4891374ee905d60dfb250037d64fb189d11f5b115907194c8cd87.png', 'snippet': 'General Statement: We respect your privacy and are committed to protecting it. This privacy statement explains our policies and practices regarding online ...', 'snippet_highlighted_words': ['privacy statement'], 'source': 'fordcommercialvehiclecenter.com'}, {'position': 4, 'title': 'Ford Pro Privacy Policy', 'link': 'https://content.fordpro.com/content/dam/fordpro/gb/en-gb/pdfs/privacy-policy/FCS-PrivacyPolicy-UK.pdf', 'redirect_link': 'https://www.google.com/url?sa=t&source=web&rct=j&opi=89978449&url=https://content.fordpro.com/content/dam/fordpro/gb/en-gb/pdfs/privacy-policy/FCS-PrivacyPolicy-UK.pdf&ved=2ahUKEwj_3IHq1qqMAxWgh68BHXejGE0QFnoECBkQAQ', 'displayed_link': 'https://content.fordpro.com › dam › en-gb › pdfs', 'date': 'Apr 23, 2024', 'snippet': 'This Privacy Policy will help you understand what personal information Ford Motor Company Limited and Ford Smart Mobility (UK) Limited (together ...', 'snippet_highlighted_words': ['Privacy Policy', 'Ford', 'Ford'], 'source': 'Ford Pro'}, {'position': 5, 'title': 'Your Privacy Choices', 'link': 'https://www.ford.com/finance/content/dam/ford64/us/pdf/privacy/Your-Privacy-Choices_FordCredit.pdf', 'redirect_link': 'https://www.google.com/url?sa=t&source=web&rct=j&opi=89978449&url=https://www.ford.com/finance/content/dam/ford64/us/pdf/privacy/Your-Privacy-Choices_FordCredit.pdf&ved=2ahUKEwj_3IHq1qqMAxWgh68BHXejGE0QFnoECCAQAQ', 'displayed_link': 'https://www.ford.com › ford64 › pdf › privacy', 'favicon': 'https://serpapi.com/searches/67e57c5cbb5bfcd065705c8a/images/f78c8ec516a4891374ee905d60dfb2505b61cf4296d02960f4b2ce094d93f645.jpeg', 'snippet': 'For all visitors to a Ford website, this page describes how you may opt out of the disclosure and use of personal information we collect through cookies or ...', 'snippet_highlighted_words': ['may'], 'source': 'Ford'}, {'position': 6, 'title': 'PRIVACY STATEMENT', 'link': 'https://www.forddirect.com/sites/default/files/2024-09/FORDDIRECT%20PRIVACY%20STATEMENT%20OCTOBER%202024.pdf', 'redirect_link': 'https://www.google.com/url?sa=t&source=web&rct=j&opi=89978449&url=https://www.forddirect.com/sites/default/files/2024-09/FORDDIRECT%2520PRIVACY%2520STATEMENT%2520OCTOBER%25202024.pdf&ved=2ahUKEwj_3IHq1qqMAxWgh68BHXejGE0QFnoECBoQAQ', 'displayed_link': 'https://www.forddirect.com › sites › default › files', 'favicon': 'https://serpapi.com/searches/67e57c5cbb5bfcd065705c8a/images/f78c8ec516a4891374ee905d60dfb25015a30941903984cbed14791e7dd0dcc2.png', 'date': 'Sep 20, 2024', 'snippet': 'This Privacy Statement explains how FordDirect collects, uses, discloses, and protects your personal information, as well as your rights ...', 'snippet_highlighted_words': ['FordDirect collects, uses, discloses, and protects your personal information'], 'source': 'FordDirect'}, {'position': 7, 'title': 'California Privacy Notice', 'link': 'https://www.ford.com/finance/content/dam/ford64/us/pdf/privacy/Ford_Credit_CA_B2B%20Notice_CCPA.pdf', 'redirect_link': 'https://www.google.com/url?sa=t&source=web&rct=j&opi=89978449&url=https://www.ford.com/finance/content/dam/ford64/us/pdf/privacy/Ford_Credit_CA_B2B%2520Notice_CCPA.pdf&ved=2ahUKEwj_3IHq1qqMAxWgh68BHXejGE0QFnoECCMQAQ', 'displayed_link': 'https://www.ford.com › ford64 › pdf › privacy', 'favicon': 'https://serpapi.com/searches/67e57c5cbb5bfcd065705c8a/images/f78c8ec516a4891374ee905d60dfb250ba5ab6d24a21775dcfbd138e943e48b3.jpeg', 'snippet': 'This Privacy Notice (the “Notice”) explains how Ford Motor Credit Company (“Ford Credit,” “our,” “we,” or “us”) collects, uses, and shares the personal ...', 'snippet_highlighted_words': ['Ford Motor Credit Company'], 'source': 'Ford'}, {'position': 8, 'title': 'What Does Ford Credit Do With Your Personal Information?', 'link': 'https://www.ford.com/finance/content/dam/ford64/us/pdf/privacy/Privacy%20Notice-EffectiveAugust1-2013.pdf', 'redirect_link': 'https://www.google.com/url?sa=t&source=web&rct=j&opi=89978449&url=https://www.ford.com/finance/content/dam/ford64/us/pdf/privacy/Privacy%2520Notice-EffectiveAugust1-2013.pdf&ved=2ahUKEwj_3IHq1qqMAxWgh68BHXejGE0QFnoECDgQAQ', 'displayed_link': 'https://www.ford.com › ford64 › pdf › privacy', 'favicon': 'https://serpapi.com/searches/67e57c5cbb5bfcd065705c8a/images/f78c8ec516a4891374ee905d60dfb250b752c234048cef695eb8c2a3572bac5e.jpeg', 'snippet': 'Financial companies choose how they share your personal information. Federal law gives consumers the right to limit some but not all sharing.', 'source': 'Ford'}, {'position': 9, 'title': 'Privacy Policy, Terms and Conditions - FordPass', 'link': 'https://www.fordpass.com/content/ford_com/fp_app/en_us/termsprivacy.html', 'redirect_link': 'https://www.google.com/url?sa=t&source=web&rct=j&opi=89978449&url=https://www.fordpass.com/content/ford_com/fp_app/en_us/termsprivacy.html&ved=2ahUKEwj_3IHq1qqMAxWgh68BHXejGE0QFnoECDkQAQ', 'displayed_link': 'https://www.fordpass.com › ford_com › fp_app › en_us', 'favicon': 'https://serpapi.com/searches/67e57c5cbb5bfcd065705c8a/images/f78c8ec516a4891374ee905d60dfb2509a6c1cc8ef2550ad50a543c2c7eadc8f.jpeg', 'date': 'Feb 7, 2025', 'snippet': 'Privacy Policy. The FordPass Privacy Policy supplements the Ford Motor Company US Privacy Notice, Connected Vehicle Privacy Notice, and ...', 'snippet_highlighted_words': ['FordPass Privacy Policy'], 'source': 'Ford'}, {'position': 10, 'title': 'Privacy', 'link': 'https://www.forddirect.com/privacy', 'redirect_link': 'https://www.google.com/url?sa=t&source=web&rct=j&opi=89978449&url=https://www.forddirect.com/privacy&ved=2ahUKEwj_3IHq1qqMAxWgh68BHXejGE0QFnoECDoQAQ', 'displayed_link': 'https://www.forddirect.com › privacy', 'favicon': 'https://serpapi.com/searches/67e57c5cbb5bfcd065705c8a/images/f78c8ec516a4891374ee905d60dfb250d91c273b49db3a3193c611e782ab263c.png', 'date': 'Dec 1, 2024', 'snippet': 'This Privacy Statement explains how FordDirect collects, uses, discloses, and protects your personal information, as well as your rights regarding your ...', 'snippet_highlighted_words': ['FordDirect collects, uses, discloses, and protects your personal information'], 'source': 'FordDirect'}], 'top_stories_link': 'https://www.google.com/search?sca_esv=1fe3e7095f1a8e23&q=Give+me+the+privacy+policy+of+Ford+pdf&udm=2&source=univ&fir=FXnyuMRXwLviLM%252CGPC3dsOvlD_5FM%252C_%253BVAi2CNn2bJNWZM%252CGPC3dsOvlD_5FM%252C_%253B3elHfmOitTxNCM%252CGPC3dsOvlD_5FM%252C_%253Bgar5S2EOUGhIhM%252CONnUh0kPihwuTM%252C_%253BmV3UX834by7u1M%252CGPC3dsOvlD_5FM%252C_%253BMmAlNclhxy4YGM%252CPb1RbBZMi2Xw-M%252C_%253B6y_aXXHkB3FG5M%252CGPC3dsOvlD_5FM%252C_%253BVb8WAUCZ1U3XaM%252CGPC3dsOvlD_5FM%252C_%253BcSGJVuCKD8kWNM%252C1xSyT5RiUWGhWM%252C_&usg=AI4_-kQ-6s6_LJmMnrBDQwl2m-EX6SWonA&sa=X&ved=2ahUKEwj_3IHq1qqMAxWgh68BHXejGE0Q7Al6BAhPEAY', 'top_stories_serpapi_link': 'https://serpapi.com/search.json?device=desktop&engine=google&google_domain=google.com&q=Give+me+the+privacy+policy+of+Ford+pdf', 'related_searches': [{'block_position': 1, 'query': 'Ford Privacy Policy', 'link': 'https://www.google.com/search?sca_esv=1fe3e7095f1a8e23&q=Ford+Privacy+Policy&sa=X&ved=2ahUKEwj_3IHq1qqMAxWgh68BHXejGE0Q1QJ6BAg8EAE', 'serpapi_link': 'https://serpapi.com/search.json?device=desktop&engine=google&google_domain=google.com&q=Ford+Privacy+Policy'}, {'block_position': 1, 'query': 'Ford credit privacy department letter', 'link': 'https://www.google.com/search?sca_esv=1fe3e7095f1a8e23&q=Ford+credit+privacy+department+letter&sa=X&ved=2ahUKEwj_3IHq1qqMAxWgh68BHXejGE0Q1QJ6BAg3EAE', 'serpapi_link': 'https://serpapi.com/search.json?device=desktop&engine=google&google_domain=google.com&q=Ford+credit+privacy+department+letter'}, {'block_position': 1, 'query': 'Ford service', 'link': 'https://www.google.com/search?sca_esv=1fe3e7095f1a8e23&q=Ford+service&sa=X&ved=2ahUKEwj_3IHq1qqMAxWgh68BHXejGE0Q1QJ6BAg0EAE', 'serpapi_link': 'https://serpapi.com/search.json?device=desktop&engine=google&google_domain=google.com&q=Ford+service'}, {'block_position': 1, 'query': 'Ford Pass', 'link': 'https://www.google.com/search?sca_esv=1fe3e7095f1a8e23&q=Ford+Pass&sa=X&ved=2ahUKEwj_3IHq1qqMAxWgh68BHXejGE0Q1QJ6BAg7EAE', 'serpapi_link': 'https://serpapi.com/search.json?device=desktop&engine=google&google_domain=google.com&q=Ford+Pass'}, {'block_position': 1, 'query': 'American Ford', 'link': 'https://www.google.com/search?sca_esv=1fe3e7095f1a8e23&q=American+Ford&sa=X&ved=2ahUKEwj_3IHq1qqMAxWgh68BHXejGE0Q1QJ6BAg2EAE', 'serpapi_link': 'https://serpapi.com/search.json?device=desktop&engine=google&google_domain=google.com&q=American+Ford'}, {'block_position': 1, 'query': 'Ford upgrades', 'link': 'https://www.google.com/search?sca_esv=1fe3e7095f1a8e23&q=Ford+upgrades&sa=X&ved=2ahUKEwj_3IHq1qqMAxWgh68BHXejGE0Q1QJ6BAg1EAE', 'serpapi_link': 'https://serpapi.com/search.json?device=desktop&engine=google&google_domain=google.com&q=Ford+upgrades'}, {'block_position': 1, 'query': 'Ford law enforcement contact', 'link': 'https://www.google.com/search?sca_esv=1fe3e7095f1a8e23&q=Ford+law+enforcement+contact&sa=X&ved=2ahUKEwj_3IHq1qqMAxWgh68BHXejGE0Q1QJ6BAgzEAE', 'serpapi_link': 'https://serpapi.com/search.json?device=desktop&engine=google&google_domain=google.com&q=Ford+law+enforcement+contact'}, {'block_position': 1, 'query': 'Ford careers', 'link': 'https://www.google.com/search?sca_esv=1fe3e7095f1a8e23&q=Ford+careers&sa=X&ved=2ahUKEwj_3IHq1qqMAxWgh68BHXejGE0Q1QJ6BAgyEAE', 'serpapi_link': 'https://serpapi.com/search.json?device=desktop&engine=google&google_domain=google.com&q=Ford+careers'}], 'pagination': {'current': 1, 'next': 'https://www.google.com/search?q=Give+me+the+privacy+policy+of+Ford+pdf&sca_esv=1fe3e7095f1a8e23&ei=Y3zlZ7-fC6CPvr0P98bi6AQ&start=10&sa=N&sstk=Af40H4X1NsJxBDlPVk9F7Zg-uANezeguHlsi60UUA1JC--SW55Kiu-lnmgZzoh2o5lcQ21wGhCtCcGOYzSYaGGdlbjIGUy_B4XP7ew&ved=2ahUKEwj_3IHq1qqMAxWgh68BHXejGE0Q8NMDegQICxAW', 'other_pages': {'2': 'https://www.google.com/search?q=Give+me+the+privacy+policy+of+Ford+pdf&sca_esv=1fe3e7095f1a8e23&ei=Y3zlZ7-fC6CPvr0P98bi6AQ&start=10&sa=N&sstk=Af40H4X1NsJxBDlPVk9F7Zg-uANezeguHlsi60UUA1JC--SW55Kiu-lnmgZzoh2o5lcQ21wGhCtCcGOYzSYaGGdlbjIGUy_B4XP7ew&ved=2ahUKEwj_3IHq1qqMAxWgh68BHXejGE0Q8tMDegQICxAE', '3': 'https://www.google.com/search?q=Give+me+the+privacy+policy+of+Ford+pdf&sca_esv=1fe3e7095f1a8e23&ei=Y3zlZ7-fC6CPvr0P98bi6AQ&start=20&sa=N&sstk=Af40H4X1NsJxBDlPVk9F7Zg-uANezeguHlsi60UUA1JC--SW55Kiu-lnmgZzoh2o5lcQ21wGhCtCcGOYzSYaGGdlbjIGUy_B4XP7ew&ved=2ahUKEwj_3IHq1qqMAxWgh68BHXejGE0Q8tMDegQICxAG', '4': 'https://www.google.com/search?q=Give+me+the+privacy+policy+of+Ford+pdf&sca_esv=1fe3e7095f1a8e23&ei=Y3zlZ7-fC6CPvr0P98bi6AQ&start=30&sa=N&sstk=Af40H4X1NsJxBDlPVk9F7Zg-uANezeguHlsi60UUA1JC--SW55Kiu-lnmgZzoh2o5lcQ21wGhCtCcGOYzSYaGGdlbjIGUy_B4XP7ew&ved=2ahUKEwj_3IHq1qqMAxWgh68BHXejGE0Q8tMDegQICxAI', '5': 'https://www.google.com/search?q=Give+me+the+privacy+policy+of+Ford+pdf&sca_esv=1fe3e7095f1a8e23&ei=Y3zlZ7-fC6CPvr0P98bi6AQ&start=40&sa=N&sstk=Af40H4X1NsJxBDlPVk9F7Zg-uANezeguHlsi60UUA1JC--SW55Kiu-lnmgZzoh2o5lcQ21wGhCtCcGOYzSYaGGdlbjIGUy_B4XP7ew&ved=2ahUKEwj_3IHq1qqMAxWgh68BHXejGE0Q8tMDegQICxAK', '6': 'https://www.google.com/search?q=Give+me+the+privacy+policy+of+Ford+pdf&sca_esv=1fe3e7095f1a8e23&ei=Y3zlZ7-fC6CPvr0P98bi6AQ&start=50&sa=N&sstk=Af40H4X1NsJxBDlPVk9F7Zg-uANezeguHlsi60UUA1JC--SW55Kiu-lnmgZzoh2o5lcQ21wGhCtCcGOYzSYaGGdlbjIGUy_B4XP7ew&ved=2ahUKEwj_3IHq1qqMAxWgh68BHXejGE0Q8tMDegQICxAM', '7': 'https://www.google.com/search?q=Give+me+the+privacy+policy+of+Ford+pdf&sca_esv=1fe3e7095f1a8e23&ei=Y3zlZ7-fC6CPvr0P98bi6AQ&start=60&sa=N&sstk=Af40H4X1NsJxBDlPVk9F7Zg-uANezeguHlsi60UUA1JC--SW55Kiu-lnmgZzoh2o5lcQ21wGhCtCcGOYzSYaGGdlbjIGUy_B4XP7ew&ved=2ahUKEwj_3IHq1qqMAxWgh68BHXejGE0Q8tMDegQICxAO', '8': 'https://www.google.com/search?q=Give+me+the+privacy+policy+of+Ford+pdf&sca_esv=1fe3e7095f1a8e23&ei=Y3zlZ7-fC6CPvr0P98bi6AQ&start=70&sa=N&sstk=Af40H4X1NsJxBDlPVk9F7Zg-uANezeguHlsi60UUA1JC--SW55Kiu-lnmgZzoh2o5lcQ21wGhCtCcGOYzSYaGGdlbjIGUy_B4XP7ew&ved=2ahUKEwj_3IHq1qqMAxWgh68BHXejGE0Q8tMDegQICxAQ', '9': 'https://www.google.com/search?q=Give+me+the+privacy+policy+of+Ford+pdf&sca_esv=1fe3e7095f1a8e23&ei=Y3zlZ7-fC6CPvr0P98bi6AQ&start=80&sa=N&sstk=Af40H4X1NsJxBDlPVk9F7Zg-uANezeguHlsi60UUA1JC--SW55Kiu-lnmgZzoh2o5lcQ21wGhCtCcGOYzSYaGGdlbjIGUy_B4XP7ew&ved=2ahUKEwj_3IHq1qqMAxWgh68BHXejGE0Q8tMDegQICxAS', '10': 'https://www.google.com/search?q=Give+me+the+privacy+policy+of+Ford+pdf&sca_esv=1fe3e7095f1a8e23&ei=Y3zlZ7-fC6CPvr0P98bi6AQ&start=90&sa=N&sstk=Af40H4X1NsJxBDlPVk9F7Zg-uANezeguHlsi60UUA1JC--SW55Kiu-lnmgZzoh2o5lcQ21wGhCtCcGOYzSYaGGdlbjIGUy_B4XP7ew&ved=2ahUKEwj_3IHq1qqMAxWgh68BHXejGE0Q8tMDegQICxAU'}}, 'serpapi_pagination': {'current': 1, 'next_link': 'https://serpapi.com/search.json?device=desktop&engine=google&google_domain=google.com&q=Give+me+the+privacy+policy+of+Ford+pdf&start=10', 'next': 'https://serpapi.com/search.json?device=desktop&engine=google&google_domain=google.com&q=Give+me+the+privacy+policy+of+Ford+pdf&start=10', 'other_pages': {'2': 'https://serpapi.com/search.json?device=desktop&engine=google&google_domain=google.com&q=Give+me+the+privacy+policy+of+Ford+pdf&start=10', '3': 'https://serpapi.com/search.json?device=desktop&engine=google&google_domain=google.com&q=Give+me+the+privacy+policy+of+Ford+pdf&start=20', '4': 'https://serpapi.com/search.json?device=desktop&engine=google&google_domain=google.com&q=Give+me+the+privacy+policy+of+Ford+pdf&start=30', '5': 'https://serpapi.com/search.json?device=desktop&engine=google&google_domain=google.com&q=Give+me+the+privacy+policy+of+Ford+pdf&start=40', '6': 'https://serpapi.com/search.json?device=desktop&engine=google&google_domain=google.com&q=Give+me+the+privacy+policy+of+Ford+pdf&start=50', '7': 'https://serpapi.com/search.json?device=desktop&engine=google&google_domain=google.com&q=Give+me+the+privacy+policy+of+Ford+pdf&start=60', '8': 'https://serpapi.com/search.json?device=desktop&engine=google&google_domain=google.com&q=Give+me+the+privacy+policy+of+Ford+pdf&start=70', '9': 'https://serpapi.com/search.json?device=desktop&engine=google&google_domain=google.com&q=Give+me+the+privacy+policy+of+Ford+pdf&start=80', '10': 'https://serpapi.com/search.json?device=desktop&engine=google&google_domain=google.com&q=Give+me+the+privacy+policy+of+Ford+pdf&start=90'}}}\n"
          ]
        }
      ]
    },
    {
      "cell_type": "code",
      "source": [
        "dictResult = {}\n",
        "df = pd.DataFrame(results[\"organic_results\"])\n",
        "df"
      ],
      "metadata": {
        "colab": {
          "base_uri": "https://localhost:8080/",
          "height": 1000
        },
        "id": "ve9-RxSnZjAt",
        "outputId": "4b7e4cc0-82e7-4001-b221-126dc847c8ce"
      },
      "execution_count": null,
      "outputs": [
        {
          "output_type": "execute_result",
          "data": {
            "text/plain": [
              "   position                                              title  \\\n",
              "0         1                    Ford® Privacy Policy | Ford.com   \n",
              "1         2            IMPORTANT PRIVACY CHOICES FOR CONSUMERS   \n",
              "2         3  fordcommercialvehiclecenter.com Privacy Statement   \n",
              "3         4                            Ford Pro Privacy Policy   \n",
              "4         5                               Your Privacy Choices   \n",
              "5         6                                  PRIVACY STATEMENT   \n",
              "6         7                          California Privacy Notice   \n",
              "7         8  What Does Ford Credit Do With Your Personal In...   \n",
              "8         9    Privacy Policy, Terms and Conditions - FordPass   \n",
              "9        10                                            Privacy   \n",
              "\n",
              "                                                link  \\\n",
              "0                 https://www.ford.com/help/privacy/   \n",
              "1  https://www.ford.com/finance/content/dam/ford6...   \n",
              "2  https://fordcommercialvehiclecenter.com/terms.pdf   \n",
              "3  https://content.fordpro.com/content/dam/fordpr...   \n",
              "4  https://www.ford.com/finance/content/dam/ford6...   \n",
              "5  https://www.forddirect.com/sites/default/files...   \n",
              "6  https://www.ford.com/finance/content/dam/ford6...   \n",
              "7  https://www.ford.com/finance/content/dam/ford6...   \n",
              "8  https://www.fordpass.com/content/ford_com/fp_a...   \n",
              "9                 https://www.forddirect.com/privacy   \n",
              "\n",
              "                                       redirect_link  \\\n",
              "0  https://www.google.com/url?sa=t&source=web&rct...   \n",
              "1  https://www.google.com/url?sa=t&source=web&rct...   \n",
              "2  https://www.google.com/url?sa=t&source=web&rct...   \n",
              "3  https://www.google.com/url?sa=t&source=web&rct...   \n",
              "4  https://www.google.com/url?sa=t&source=web&rct...   \n",
              "5  https://www.google.com/url?sa=t&source=web&rct...   \n",
              "6  https://www.google.com/url?sa=t&source=web&rct...   \n",
              "7  https://www.google.com/url?sa=t&source=web&rct...   \n",
              "8  https://www.google.com/url?sa=t&source=web&rct...   \n",
              "9  https://www.google.com/url?sa=t&source=web&rct...   \n",
              "\n",
              "                                      displayed_link  \\\n",
              "0              https://www.ford.com › help › privacy   \n",
              "1      https://www.ford.com › ford64 › pdf › privacy   \n",
              "2    https://fordcommercialvehiclecenter.com › terms   \n",
              "3   https://content.fordpro.com › dam › en-gb › pdfs   \n",
              "4      https://www.ford.com › ford64 › pdf › privacy   \n",
              "5  https://www.forddirect.com › sites › default ›...   \n",
              "6      https://www.ford.com › ford64 › pdf › privacy   \n",
              "7      https://www.ford.com › ford64 › pdf › privacy   \n",
              "8  https://www.fordpass.com › ford_com › fp_app ›...   \n",
              "9               https://www.forddirect.com › privacy   \n",
              "\n",
              "                                             favicon  \\\n",
              "0  https://serpapi.com/searches/67e57c5cbb5bfcd06...   \n",
              "1  https://serpapi.com/searches/67e57c5cbb5bfcd06...   \n",
              "2  https://serpapi.com/searches/67e57c5cbb5bfcd06...   \n",
              "3                                                NaN   \n",
              "4  https://serpapi.com/searches/67e57c5cbb5bfcd06...   \n",
              "5  https://serpapi.com/searches/67e57c5cbb5bfcd06...   \n",
              "6  https://serpapi.com/searches/67e57c5cbb5bfcd06...   \n",
              "7  https://serpapi.com/searches/67e57c5cbb5bfcd06...   \n",
              "8  https://serpapi.com/searches/67e57c5cbb5bfcd06...   \n",
              "9  https://serpapi.com/searches/67e57c5cbb5bfcd06...   \n",
              "\n",
              "                                             snippet  \\\n",
              "0  This privacy statement explains our policies a...   \n",
              "1  Your Rights. You have the following rights to ...   \n",
              "2  General Statement: We respect your privacy and...   \n",
              "3  This Privacy Policy will help you understand w...   \n",
              "4  For all visitors to a Ford website, this page ...   \n",
              "5  This Privacy Statement explains how FordDirect...   \n",
              "6  This Privacy Notice (the “Notice”) explains ho...   \n",
              "7  Financial companies choose how they share your...   \n",
              "8  Privacy Policy. The FordPass Privacy Policy su...   \n",
              "9  This Privacy Statement explains how FordDirect...   \n",
              "\n",
              "                           snippet_highlighted_words  \\\n",
              "0                    [privacy statement, ford, ford]   \n",
              "1                                                NaN   \n",
              "2                                [privacy statement]   \n",
              "3                       [Privacy Policy, Ford, Ford]   \n",
              "4                                              [may]   \n",
              "5  [FordDirect collects, uses, discloses, and pro...   \n",
              "6                        [Ford Motor Credit Company]   \n",
              "7                                                NaN   \n",
              "8                          [FordPass Privacy Policy]   \n",
              "9  [FordDirect collects, uses, discloses, and pro...   \n",
              "\n",
              "                            source          date  \n",
              "0                             Ford           NaN  \n",
              "1                             Ford           NaN  \n",
              "2  fordcommercialvehiclecenter.com           NaN  \n",
              "3                         Ford Pro  Apr 23, 2024  \n",
              "4                             Ford           NaN  \n",
              "5                       FordDirect  Sep 20, 2024  \n",
              "6                             Ford           NaN  \n",
              "7                             Ford           NaN  \n",
              "8                             Ford   Feb 7, 2025  \n",
              "9                       FordDirect   Dec 1, 2024  "
            ],
            "text/html": [
              "\n",
              "  <div id=\"df-6df406e2-c7e2-4506-a35a-cabfe122fc5a\" class=\"colab-df-container\">\n",
              "    <div>\n",
              "<style scoped>\n",
              "    .dataframe tbody tr th:only-of-type {\n",
              "        vertical-align: middle;\n",
              "    }\n",
              "\n",
              "    .dataframe tbody tr th {\n",
              "        vertical-align: top;\n",
              "    }\n",
              "\n",
              "    .dataframe thead th {\n",
              "        text-align: right;\n",
              "    }\n",
              "</style>\n",
              "<table border=\"1\" class=\"dataframe\">\n",
              "  <thead>\n",
              "    <tr style=\"text-align: right;\">\n",
              "      <th></th>\n",
              "      <th>position</th>\n",
              "      <th>title</th>\n",
              "      <th>link</th>\n",
              "      <th>redirect_link</th>\n",
              "      <th>displayed_link</th>\n",
              "      <th>favicon</th>\n",
              "      <th>snippet</th>\n",
              "      <th>snippet_highlighted_words</th>\n",
              "      <th>source</th>\n",
              "      <th>date</th>\n",
              "    </tr>\n",
              "  </thead>\n",
              "  <tbody>\n",
              "    <tr>\n",
              "      <th>0</th>\n",
              "      <td>1</td>\n",
              "      <td>Ford® Privacy Policy | Ford.com</td>\n",
              "      <td>https://www.ford.com/help/privacy/</td>\n",
              "      <td>https://www.google.com/url?sa=t&amp;source=web&amp;rct...</td>\n",
              "      <td>https://www.ford.com › help › privacy</td>\n",
              "      <td>https://serpapi.com/searches/67e57c5cbb5bfcd06...</td>\n",
              "      <td>This privacy statement explains our policies a...</td>\n",
              "      <td>[privacy statement, ford, ford]</td>\n",
              "      <td>Ford</td>\n",
              "      <td>NaN</td>\n",
              "    </tr>\n",
              "    <tr>\n",
              "      <th>1</th>\n",
              "      <td>2</td>\n",
              "      <td>IMPORTANT PRIVACY CHOICES FOR CONSUMERS</td>\n",
              "      <td>https://www.ford.com/finance/content/dam/ford6...</td>\n",
              "      <td>https://www.google.com/url?sa=t&amp;source=web&amp;rct...</td>\n",
              "      <td>https://www.ford.com › ford64 › pdf › privacy</td>\n",
              "      <td>https://serpapi.com/searches/67e57c5cbb5bfcd06...</td>\n",
              "      <td>Your Rights. You have the following rights to ...</td>\n",
              "      <td>NaN</td>\n",
              "      <td>Ford</td>\n",
              "      <td>NaN</td>\n",
              "    </tr>\n",
              "    <tr>\n",
              "      <th>2</th>\n",
              "      <td>3</td>\n",
              "      <td>fordcommercialvehiclecenter.com Privacy Statement</td>\n",
              "      <td>https://fordcommercialvehiclecenter.com/terms.pdf</td>\n",
              "      <td>https://www.google.com/url?sa=t&amp;source=web&amp;rct...</td>\n",
              "      <td>https://fordcommercialvehiclecenter.com › terms</td>\n",
              "      <td>https://serpapi.com/searches/67e57c5cbb5bfcd06...</td>\n",
              "      <td>General Statement: We respect your privacy and...</td>\n",
              "      <td>[privacy statement]</td>\n",
              "      <td>fordcommercialvehiclecenter.com</td>\n",
              "      <td>NaN</td>\n",
              "    </tr>\n",
              "    <tr>\n",
              "      <th>3</th>\n",
              "      <td>4</td>\n",
              "      <td>Ford Pro Privacy Policy</td>\n",
              "      <td>https://content.fordpro.com/content/dam/fordpr...</td>\n",
              "      <td>https://www.google.com/url?sa=t&amp;source=web&amp;rct...</td>\n",
              "      <td>https://content.fordpro.com › dam › en-gb › pdfs</td>\n",
              "      <td>NaN</td>\n",
              "      <td>This Privacy Policy will help you understand w...</td>\n",
              "      <td>[Privacy Policy, Ford, Ford]</td>\n",
              "      <td>Ford Pro</td>\n",
              "      <td>Apr 23, 2024</td>\n",
              "    </tr>\n",
              "    <tr>\n",
              "      <th>4</th>\n",
              "      <td>5</td>\n",
              "      <td>Your Privacy Choices</td>\n",
              "      <td>https://www.ford.com/finance/content/dam/ford6...</td>\n",
              "      <td>https://www.google.com/url?sa=t&amp;source=web&amp;rct...</td>\n",
              "      <td>https://www.ford.com › ford64 › pdf › privacy</td>\n",
              "      <td>https://serpapi.com/searches/67e57c5cbb5bfcd06...</td>\n",
              "      <td>For all visitors to a Ford website, this page ...</td>\n",
              "      <td>[may]</td>\n",
              "      <td>Ford</td>\n",
              "      <td>NaN</td>\n",
              "    </tr>\n",
              "    <tr>\n",
              "      <th>5</th>\n",
              "      <td>6</td>\n",
              "      <td>PRIVACY STATEMENT</td>\n",
              "      <td>https://www.forddirect.com/sites/default/files...</td>\n",
              "      <td>https://www.google.com/url?sa=t&amp;source=web&amp;rct...</td>\n",
              "      <td>https://www.forddirect.com › sites › default ›...</td>\n",
              "      <td>https://serpapi.com/searches/67e57c5cbb5bfcd06...</td>\n",
              "      <td>This Privacy Statement explains how FordDirect...</td>\n",
              "      <td>[FordDirect collects, uses, discloses, and pro...</td>\n",
              "      <td>FordDirect</td>\n",
              "      <td>Sep 20, 2024</td>\n",
              "    </tr>\n",
              "    <tr>\n",
              "      <th>6</th>\n",
              "      <td>7</td>\n",
              "      <td>California Privacy Notice</td>\n",
              "      <td>https://www.ford.com/finance/content/dam/ford6...</td>\n",
              "      <td>https://www.google.com/url?sa=t&amp;source=web&amp;rct...</td>\n",
              "      <td>https://www.ford.com › ford64 › pdf › privacy</td>\n",
              "      <td>https://serpapi.com/searches/67e57c5cbb5bfcd06...</td>\n",
              "      <td>This Privacy Notice (the “Notice”) explains ho...</td>\n",
              "      <td>[Ford Motor Credit Company]</td>\n",
              "      <td>Ford</td>\n",
              "      <td>NaN</td>\n",
              "    </tr>\n",
              "    <tr>\n",
              "      <th>7</th>\n",
              "      <td>8</td>\n",
              "      <td>What Does Ford Credit Do With Your Personal In...</td>\n",
              "      <td>https://www.ford.com/finance/content/dam/ford6...</td>\n",
              "      <td>https://www.google.com/url?sa=t&amp;source=web&amp;rct...</td>\n",
              "      <td>https://www.ford.com › ford64 › pdf › privacy</td>\n",
              "      <td>https://serpapi.com/searches/67e57c5cbb5bfcd06...</td>\n",
              "      <td>Financial companies choose how they share your...</td>\n",
              "      <td>NaN</td>\n",
              "      <td>Ford</td>\n",
              "      <td>NaN</td>\n",
              "    </tr>\n",
              "    <tr>\n",
              "      <th>8</th>\n",
              "      <td>9</td>\n",
              "      <td>Privacy Policy, Terms and Conditions - FordPass</td>\n",
              "      <td>https://www.fordpass.com/content/ford_com/fp_a...</td>\n",
              "      <td>https://www.google.com/url?sa=t&amp;source=web&amp;rct...</td>\n",
              "      <td>https://www.fordpass.com › ford_com › fp_app ›...</td>\n",
              "      <td>https://serpapi.com/searches/67e57c5cbb5bfcd06...</td>\n",
              "      <td>Privacy Policy. The FordPass Privacy Policy su...</td>\n",
              "      <td>[FordPass Privacy Policy]</td>\n",
              "      <td>Ford</td>\n",
              "      <td>Feb 7, 2025</td>\n",
              "    </tr>\n",
              "    <tr>\n",
              "      <th>9</th>\n",
              "      <td>10</td>\n",
              "      <td>Privacy</td>\n",
              "      <td>https://www.forddirect.com/privacy</td>\n",
              "      <td>https://www.google.com/url?sa=t&amp;source=web&amp;rct...</td>\n",
              "      <td>https://www.forddirect.com › privacy</td>\n",
              "      <td>https://serpapi.com/searches/67e57c5cbb5bfcd06...</td>\n",
              "      <td>This Privacy Statement explains how FordDirect...</td>\n",
              "      <td>[FordDirect collects, uses, discloses, and pro...</td>\n",
              "      <td>FordDirect</td>\n",
              "      <td>Dec 1, 2024</td>\n",
              "    </tr>\n",
              "  </tbody>\n",
              "</table>\n",
              "</div>\n",
              "    <div class=\"colab-df-buttons\">\n",
              "\n",
              "  <div class=\"colab-df-container\">\n",
              "    <button class=\"colab-df-convert\" onclick=\"convertToInteractive('df-6df406e2-c7e2-4506-a35a-cabfe122fc5a')\"\n",
              "            title=\"Convert this dataframe to an interactive table.\"\n",
              "            style=\"display:none;\">\n",
              "\n",
              "  <svg xmlns=\"http://www.w3.org/2000/svg\" height=\"24px\" viewBox=\"0 -960 960 960\">\n",
              "    <path d=\"M120-120v-720h720v720H120Zm60-500h600v-160H180v160Zm220 220h160v-160H400v160Zm0 220h160v-160H400v160ZM180-400h160v-160H180v160Zm440 0h160v-160H620v160ZM180-180h160v-160H180v160Zm440 0h160v-160H620v160Z\"/>\n",
              "  </svg>\n",
              "    </button>\n",
              "\n",
              "  <style>\n",
              "    .colab-df-container {\n",
              "      display:flex;\n",
              "      gap: 12px;\n",
              "    }\n",
              "\n",
              "    .colab-df-convert {\n",
              "      background-color: #E8F0FE;\n",
              "      border: none;\n",
              "      border-radius: 50%;\n",
              "      cursor: pointer;\n",
              "      display: none;\n",
              "      fill: #1967D2;\n",
              "      height: 32px;\n",
              "      padding: 0 0 0 0;\n",
              "      width: 32px;\n",
              "    }\n",
              "\n",
              "    .colab-df-convert:hover {\n",
              "      background-color: #E2EBFA;\n",
              "      box-shadow: 0px 1px 2px rgba(60, 64, 67, 0.3), 0px 1px 3px 1px rgba(60, 64, 67, 0.15);\n",
              "      fill: #174EA6;\n",
              "    }\n",
              "\n",
              "    .colab-df-buttons div {\n",
              "      margin-bottom: 4px;\n",
              "    }\n",
              "\n",
              "    [theme=dark] .colab-df-convert {\n",
              "      background-color: #3B4455;\n",
              "      fill: #D2E3FC;\n",
              "    }\n",
              "\n",
              "    [theme=dark] .colab-df-convert:hover {\n",
              "      background-color: #434B5C;\n",
              "      box-shadow: 0px 1px 3px 1px rgba(0, 0, 0, 0.15);\n",
              "      filter: drop-shadow(0px 1px 2px rgba(0, 0, 0, 0.3));\n",
              "      fill: #FFFFFF;\n",
              "    }\n",
              "  </style>\n",
              "\n",
              "    <script>\n",
              "      const buttonEl =\n",
              "        document.querySelector('#df-6df406e2-c7e2-4506-a35a-cabfe122fc5a button.colab-df-convert');\n",
              "      buttonEl.style.display =\n",
              "        google.colab.kernel.accessAllowed ? 'block' : 'none';\n",
              "\n",
              "      async function convertToInteractive(key) {\n",
              "        const element = document.querySelector('#df-6df406e2-c7e2-4506-a35a-cabfe122fc5a');\n",
              "        const dataTable =\n",
              "          await google.colab.kernel.invokeFunction('convertToInteractive',\n",
              "                                                    [key], {});\n",
              "        if (!dataTable) return;\n",
              "\n",
              "        const docLinkHtml = 'Like what you see? Visit the ' +\n",
              "          '<a target=\"_blank\" href=https://colab.research.google.com/notebooks/data_table.ipynb>data table notebook</a>'\n",
              "          + ' to learn more about interactive tables.';\n",
              "        element.innerHTML = '';\n",
              "        dataTable['output_type'] = 'display_data';\n",
              "        await google.colab.output.renderOutput(dataTable, element);\n",
              "        const docLink = document.createElement('div');\n",
              "        docLink.innerHTML = docLinkHtml;\n",
              "        element.appendChild(docLink);\n",
              "      }\n",
              "    </script>\n",
              "  </div>\n",
              "\n",
              "\n",
              "<div id=\"df-a61ec1e3-de58-4858-bf78-ddb77d943123\">\n",
              "  <button class=\"colab-df-quickchart\" onclick=\"quickchart('df-a61ec1e3-de58-4858-bf78-ddb77d943123')\"\n",
              "            title=\"Suggest charts\"\n",
              "            style=\"display:none;\">\n",
              "\n",
              "<svg xmlns=\"http://www.w3.org/2000/svg\" height=\"24px\"viewBox=\"0 0 24 24\"\n",
              "     width=\"24px\">\n",
              "    <g>\n",
              "        <path d=\"M19 3H5c-1.1 0-2 .9-2 2v14c0 1.1.9 2 2 2h14c1.1 0 2-.9 2-2V5c0-1.1-.9-2-2-2zM9 17H7v-7h2v7zm4 0h-2V7h2v10zm4 0h-2v-4h2v4z\"/>\n",
              "    </g>\n",
              "</svg>\n",
              "  </button>\n",
              "\n",
              "<style>\n",
              "  .colab-df-quickchart {\n",
              "      --bg-color: #E8F0FE;\n",
              "      --fill-color: #1967D2;\n",
              "      --hover-bg-color: #E2EBFA;\n",
              "      --hover-fill-color: #174EA6;\n",
              "      --disabled-fill-color: #AAA;\n",
              "      --disabled-bg-color: #DDD;\n",
              "  }\n",
              "\n",
              "  [theme=dark] .colab-df-quickchart {\n",
              "      --bg-color: #3B4455;\n",
              "      --fill-color: #D2E3FC;\n",
              "      --hover-bg-color: #434B5C;\n",
              "      --hover-fill-color: #FFFFFF;\n",
              "      --disabled-bg-color: #3B4455;\n",
              "      --disabled-fill-color: #666;\n",
              "  }\n",
              "\n",
              "  .colab-df-quickchart {\n",
              "    background-color: var(--bg-color);\n",
              "    border: none;\n",
              "    border-radius: 50%;\n",
              "    cursor: pointer;\n",
              "    display: none;\n",
              "    fill: var(--fill-color);\n",
              "    height: 32px;\n",
              "    padding: 0;\n",
              "    width: 32px;\n",
              "  }\n",
              "\n",
              "  .colab-df-quickchart:hover {\n",
              "    background-color: var(--hover-bg-color);\n",
              "    box-shadow: 0 1px 2px rgba(60, 64, 67, 0.3), 0 1px 3px 1px rgba(60, 64, 67, 0.15);\n",
              "    fill: var(--button-hover-fill-color);\n",
              "  }\n",
              "\n",
              "  .colab-df-quickchart-complete:disabled,\n",
              "  .colab-df-quickchart-complete:disabled:hover {\n",
              "    background-color: var(--disabled-bg-color);\n",
              "    fill: var(--disabled-fill-color);\n",
              "    box-shadow: none;\n",
              "  }\n",
              "\n",
              "  .colab-df-spinner {\n",
              "    border: 2px solid var(--fill-color);\n",
              "    border-color: transparent;\n",
              "    border-bottom-color: var(--fill-color);\n",
              "    animation:\n",
              "      spin 1s steps(1) infinite;\n",
              "  }\n",
              "\n",
              "  @keyframes spin {\n",
              "    0% {\n",
              "      border-color: transparent;\n",
              "      border-bottom-color: var(--fill-color);\n",
              "      border-left-color: var(--fill-color);\n",
              "    }\n",
              "    20% {\n",
              "      border-color: transparent;\n",
              "      border-left-color: var(--fill-color);\n",
              "      border-top-color: var(--fill-color);\n",
              "    }\n",
              "    30% {\n",
              "      border-color: transparent;\n",
              "      border-left-color: var(--fill-color);\n",
              "      border-top-color: var(--fill-color);\n",
              "      border-right-color: var(--fill-color);\n",
              "    }\n",
              "    40% {\n",
              "      border-color: transparent;\n",
              "      border-right-color: var(--fill-color);\n",
              "      border-top-color: var(--fill-color);\n",
              "    }\n",
              "    60% {\n",
              "      border-color: transparent;\n",
              "      border-right-color: var(--fill-color);\n",
              "    }\n",
              "    80% {\n",
              "      border-color: transparent;\n",
              "      border-right-color: var(--fill-color);\n",
              "      border-bottom-color: var(--fill-color);\n",
              "    }\n",
              "    90% {\n",
              "      border-color: transparent;\n",
              "      border-bottom-color: var(--fill-color);\n",
              "    }\n",
              "  }\n",
              "</style>\n",
              "\n",
              "  <script>\n",
              "    async function quickchart(key) {\n",
              "      const quickchartButtonEl =\n",
              "        document.querySelector('#' + key + ' button');\n",
              "      quickchartButtonEl.disabled = true;  // To prevent multiple clicks.\n",
              "      quickchartButtonEl.classList.add('colab-df-spinner');\n",
              "      try {\n",
              "        const charts = await google.colab.kernel.invokeFunction(\n",
              "            'suggestCharts', [key], {});\n",
              "      } catch (error) {\n",
              "        console.error('Error during call to suggestCharts:', error);\n",
              "      }\n",
              "      quickchartButtonEl.classList.remove('colab-df-spinner');\n",
              "      quickchartButtonEl.classList.add('colab-df-quickchart-complete');\n",
              "    }\n",
              "    (() => {\n",
              "      let quickchartButtonEl =\n",
              "        document.querySelector('#df-a61ec1e3-de58-4858-bf78-ddb77d943123 button');\n",
              "      quickchartButtonEl.style.display =\n",
              "        google.colab.kernel.accessAllowed ? 'block' : 'none';\n",
              "    })();\n",
              "  </script>\n",
              "</div>\n",
              "\n",
              "  <div id=\"id_e2241a64-9652-4785-aaf6-6b8d8aac8df7\">\n",
              "    <style>\n",
              "      .colab-df-generate {\n",
              "        background-color: #E8F0FE;\n",
              "        border: none;\n",
              "        border-radius: 50%;\n",
              "        cursor: pointer;\n",
              "        display: none;\n",
              "        fill: #1967D2;\n",
              "        height: 32px;\n",
              "        padding: 0 0 0 0;\n",
              "        width: 32px;\n",
              "      }\n",
              "\n",
              "      .colab-df-generate:hover {\n",
              "        background-color: #E2EBFA;\n",
              "        box-shadow: 0px 1px 2px rgba(60, 64, 67, 0.3), 0px 1px 3px 1px rgba(60, 64, 67, 0.15);\n",
              "        fill: #174EA6;\n",
              "      }\n",
              "\n",
              "      [theme=dark] .colab-df-generate {\n",
              "        background-color: #3B4455;\n",
              "        fill: #D2E3FC;\n",
              "      }\n",
              "\n",
              "      [theme=dark] .colab-df-generate:hover {\n",
              "        background-color: #434B5C;\n",
              "        box-shadow: 0px 1px 3px 1px rgba(0, 0, 0, 0.15);\n",
              "        filter: drop-shadow(0px 1px 2px rgba(0, 0, 0, 0.3));\n",
              "        fill: #FFFFFF;\n",
              "      }\n",
              "    </style>\n",
              "    <button class=\"colab-df-generate\" onclick=\"generateWithVariable('df')\"\n",
              "            title=\"Generate code using this dataframe.\"\n",
              "            style=\"display:none;\">\n",
              "\n",
              "  <svg xmlns=\"http://www.w3.org/2000/svg\" height=\"24px\"viewBox=\"0 0 24 24\"\n",
              "       width=\"24px\">\n",
              "    <path d=\"M7,19H8.4L18.45,9,17,7.55,7,17.6ZM5,21V16.75L18.45,3.32a2,2,0,0,1,2.83,0l1.4,1.43a1.91,1.91,0,0,1,.58,1.4,1.91,1.91,0,0,1-.58,1.4L9.25,21ZM18.45,9,17,7.55Zm-12,3A5.31,5.31,0,0,0,4.9,8.1,5.31,5.31,0,0,0,1,6.5,5.31,5.31,0,0,0,4.9,4.9,5.31,5.31,0,0,0,6.5,1,5.31,5.31,0,0,0,8.1,4.9,5.31,5.31,0,0,0,12,6.5,5.46,5.46,0,0,0,6.5,12Z\"/>\n",
              "  </svg>\n",
              "    </button>\n",
              "    <script>\n",
              "      (() => {\n",
              "      const buttonEl =\n",
              "        document.querySelector('#id_e2241a64-9652-4785-aaf6-6b8d8aac8df7 button.colab-df-generate');\n",
              "      buttonEl.style.display =\n",
              "        google.colab.kernel.accessAllowed ? 'block' : 'none';\n",
              "\n",
              "      buttonEl.onclick = () => {\n",
              "        google.colab.notebook.generateWithVariable('df');\n",
              "      }\n",
              "      })();\n",
              "    </script>\n",
              "  </div>\n",
              "\n",
              "    </div>\n",
              "  </div>\n"
            ],
            "application/vnd.google.colaboratory.intrinsic+json": {
              "type": "dataframe",
              "variable_name": "df",
              "summary": "{\n  \"name\": \"df\",\n  \"rows\": 10,\n  \"fields\": [\n    {\n      \"column\": \"position\",\n      \"properties\": {\n        \"dtype\": \"number\",\n        \"std\": 3,\n        \"min\": 1,\n        \"max\": 10,\n        \"num_unique_values\": 10,\n        \"samples\": [\n          9,\n          2,\n          6\n        ],\n        \"semantic_type\": \"\",\n        \"description\": \"\"\n      }\n    },\n    {\n      \"column\": \"title\",\n      \"properties\": {\n        \"dtype\": \"string\",\n        \"num_unique_values\": 10,\n        \"samples\": [\n          \"Privacy Policy, Terms and Conditions - FordPass\",\n          \"IMPORTANT PRIVACY CHOICES FOR CONSUMERS\",\n          \"PRIVACY STATEMENT\"\n        ],\n        \"semantic_type\": \"\",\n        \"description\": \"\"\n      }\n    },\n    {\n      \"column\": \"link\",\n      \"properties\": {\n        \"dtype\": \"string\",\n        \"num_unique_values\": 10,\n        \"samples\": [\n          \"https://www.fordpass.com/content/ford_com/fp_app/en_us/termsprivacy.html\",\n          \"https://www.ford.com/finance/content/dam/ford64/us/pdf/privacy/US--EngCAOnlinesupp_8_12.pdf\",\n          \"https://www.forddirect.com/sites/default/files/2024-09/FORDDIRECT%20PRIVACY%20STATEMENT%20OCTOBER%202024.pdf\"\n        ],\n        \"semantic_type\": \"\",\n        \"description\": \"\"\n      }\n    },\n    {\n      \"column\": \"redirect_link\",\n      \"properties\": {\n        \"dtype\": \"string\",\n        \"num_unique_values\": 10,\n        \"samples\": [\n          \"https://www.google.com/url?sa=t&source=web&rct=j&opi=89978449&url=https://www.fordpass.com/content/ford_com/fp_app/en_us/termsprivacy.html&ved=2ahUKEwj_3IHq1qqMAxWgh68BHXejGE0QFnoECDkQAQ\",\n          \"https://www.google.com/url?sa=t&source=web&rct=j&opi=89978449&url=https://www.ford.com/finance/content/dam/ford64/us/pdf/privacy/US--EngCAOnlinesupp_8_12.pdf&ved=2ahUKEwj_3IHq1qqMAxWgh68BHXejGE0QFnoECBsQAQ\",\n          \"https://www.google.com/url?sa=t&source=web&rct=j&opi=89978449&url=https://www.forddirect.com/sites/default/files/2024-09/FORDDIRECT%2520PRIVACY%2520STATEMENT%2520OCTOBER%25202024.pdf&ved=2ahUKEwj_3IHq1qqMAxWgh68BHXejGE0QFnoECBoQAQ\"\n        ],\n        \"semantic_type\": \"\",\n        \"description\": \"\"\n      }\n    },\n    {\n      \"column\": \"displayed_link\",\n      \"properties\": {\n        \"dtype\": \"string\",\n        \"num_unique_values\": 7,\n        \"samples\": [\n          \"https://www.ford.com \\u203a help \\u203a privacy\",\n          \"https://www.ford.com \\u203a ford64 \\u203a pdf \\u203a privacy\",\n          \"https://www.fordpass.com \\u203a ford_com \\u203a fp_app \\u203a en_us\"\n        ],\n        \"semantic_type\": \"\",\n        \"description\": \"\"\n      }\n    },\n    {\n      \"column\": \"favicon\",\n      \"properties\": {\n        \"dtype\": \"string\",\n        \"num_unique_values\": 9,\n        \"samples\": [\n          \"https://serpapi.com/searches/67e57c5cbb5bfcd065705c8a/images/f78c8ec516a4891374ee905d60dfb2509a6c1cc8ef2550ad50a543c2c7eadc8f.jpeg\",\n          \"https://serpapi.com/searches/67e57c5cbb5bfcd065705c8a/images/f78c8ec516a4891374ee905d60dfb250407cbdabafd062d9fafe5bd4903d92e2.jpeg\",\n          \"https://serpapi.com/searches/67e57c5cbb5bfcd065705c8a/images/f78c8ec516a4891374ee905d60dfb250ba5ab6d24a21775dcfbd138e943e48b3.jpeg\"\n        ],\n        \"semantic_type\": \"\",\n        \"description\": \"\"\n      }\n    },\n    {\n      \"column\": \"snippet\",\n      \"properties\": {\n        \"dtype\": \"string\",\n        \"num_unique_values\": 10,\n        \"samples\": [\n          \"Privacy Policy. The FordPass Privacy Policy supplements the Ford Motor Company US Privacy Notice, Connected Vehicle Privacy Notice, and ...\",\n          \"Your Rights. You have the following rights to restrict the sharing of personal and financial information with our affiliates (companies we own or control) ...\",\n          \"This Privacy Statement explains how FordDirect collects, uses, discloses, and protects your personal information, as well as your rights ...\"\n        ],\n        \"semantic_type\": \"\",\n        \"description\": \"\"\n      }\n    },\n    {\n      \"column\": \"snippet_highlighted_words\",\n      \"properties\": {\n        \"dtype\": \"object\",\n        \"semantic_type\": \"\",\n        \"description\": \"\"\n      }\n    },\n    {\n      \"column\": \"source\",\n      \"properties\": {\n        \"dtype\": \"category\",\n        \"num_unique_values\": 4,\n        \"samples\": [\n          \"fordcommercialvehiclecenter.com\",\n          \"FordDirect\",\n          \"Ford\"\n        ],\n        \"semantic_type\": \"\",\n        \"description\": \"\"\n      }\n    },\n    {\n      \"column\": \"date\",\n      \"properties\": {\n        \"dtype\": \"date\",\n        \"min\": \"2024-04-23 00:00:00\",\n        \"max\": \"2025-02-07 00:00:00\",\n        \"num_unique_values\": 4,\n        \"samples\": [\n          \"Sep 20, 2024\",\n          \"Dec 1, 2024\",\n          \"Apr 23, 2024\"\n        ],\n        \"semantic_type\": \"\",\n        \"description\": \"\"\n      }\n    }\n  ]\n}"
            }
          },
          "metadata": {},
          "execution_count": 44
        }
      ]
    },
    {
      "cell_type": "code",
      "source": [
        "df = df[df['link'].str.contains('.pdf')]\n",
        "df.to_excel(f'/content/drive/MyDrive/PhD research/LLM Privacy Policy/Codes/automated csv/{companyName}.xlsx')"
      ],
      "metadata": {
        "id": "KDzn1oMvcrfu"
      },
      "execution_count": null,
      "outputs": []
    },
    {
      "cell_type": "code",
      "source": [
        "def getDfPrivacyPolicy(companyName):\n",
        "  params = {\n",
        "    \"engine\": \"google\",\n",
        "    \"q\": f\"Give me the privacy policy of {companyName} pdf\",\n",
        "    \"api_key\": f\"{API_KEY}\"\n",
        "  }\n",
        "  search = GoogleSearch(params)\n",
        "  results = search.get_dict()\n",
        "  df = pd.DataFrame(results[\"organic_results\"])\n",
        "  df = df[df['link'].str.contains('.pdf')]\n",
        "  df.to_excel(f'/content/drive/MyDrive/PhD research/LLM Privacy Policy/Codes/automated csv/{companyName}.xlsx')\n",
        "  return"
      ],
      "metadata": {
        "id": "tbcyqND4lY_V"
      },
      "execution_count": null,
      "outputs": []
    },
    {
      "cell_type": "code",
      "source": [
        "companyNames = \"Ford\"\n",
        "getDfPrivacyPolicy(companyName)"
      ],
      "metadata": {
        "id": "y9sA7rFkl1EG"
      },
      "execution_count": null,
      "outputs": []
    },
    {
      "cell_type": "markdown",
      "source": [
        "# Get ton of privacy policies"
      ],
      "metadata": {
        "id": "ZKoqAmDXk6Ec"
      }
    },
    {
      "cell_type": "code",
      "source": [
        "top_service_providers_usa = [\n",
        "    \"Bechtel\", \"Jacobs Solutions Inc.\", \"Parsons Corp.\",  # Engineering & Construction\n",
        "    \"Leidos\", \"BlueAlly\", \"Integris\", \"Netrio\",  # IT & Managed Services\n",
        "    \"CoreWeave\", \"Ramp\",  # Cloud Computing\n",
        "    \"Liquid Networx\", \"WrightCore\",  # Network & Infrastructure Services\n",
        "    \"Deloitte\", \"Accenture\", \"PwC\", \"KPMG\", \"EY\",  # Consulting Services\n",
        "    \"McKinsey & Company\", \"Boston Consulting Group\", \"Bain & Company\",  # Management Consulting\n",
        "    \"AT&T\", \"Verizon\", \"Comcast\", \"T-Mobile\",  # Telecommunications\n",
        "    \"Amazon Web Services (AWS)\", \"Microsoft Azure\", \"Google Cloud\",  # Cloud & Hosting Services\n",
        "    \"IBM\", \"Cognizant\", \"Infosys\", \"Tata Consultancy Services (TCS)\",  # IT Consulting\n",
        "    \"HCL Technologies\", \"Wipro\", \"DXC Technology\",  # IT & Digital Transformation\n",
        "    \"SAP\", \"Oracle\", \"Salesforce\",  # Enterprise Software & Cloud Solutions\n",
        "    \"Uber\", \"Lyft\",  # Transportation & Ride-Sharing\n",
        "    \"FedEx\", \"UPS\", \"DHL Express\",  # Logistics & Courier Services\n",
        "    \"Visa\", \"Mastercard\", \"PayPal\", \"Square\", \"Stripe\",  # Payment Processing\n",
        "    \"Bank of America\", \"JPMorgan Chase\", \"Wells Fargo\", \"Citibank\",  # Banking Services\n",
        "    \"UnitedHealth Group\", \"Anthem\", \"Cigna\", \"Aetna\",  # Healthcare Insurance\n",
        "    \"CVS Health\", \"Walgreens Boots Alliance\",  # Pharmacy Services\n",
        "    \"ADP\", \"Paychex\", \"Workday\",  # Payroll & HR Solutions\n",
        "    \"Lockheed Martin\", \"Northrop Grumman\", \"Raytheon Technologies\",  # Defense & Aerospace\n",
        "    \"Boeing\", \"SpaceX\", \"General Dynamics\",  # Aerospace & Engineering\n",
        "    \"Netflix\", \"Disney+\", \"Hulu\", \"Amazon Prime Video\",  # Streaming Services\n",
        "    \"Yelp\", \"Angi\", \"Thumbtack\",  # Local Service Marketplaces\n",
        "    \"Zocdoc\", \"Teladoc Health\",  # Telemedicine & Healthcare Services\n",
        "    \"WeWork\", \"Regus\", \"Industrious\",  # Coworking & Office Spaces\n",
        "]"
      ],
      "metadata": {
        "id": "ZwgxNU-DlCwn"
      },
      "execution_count": null,
      "outputs": []
    },
    {
      "cell_type": "code",
      "source": [
        "for companyName in top_service_providers_usa:\n",
        "  getDfPrivacyPolicy(companyName)"
      ],
      "metadata": {
        "id": "_ONSiJ0YmJBu"
      },
      "execution_count": null,
      "outputs": []
    },
    {
      "cell_type": "code",
      "source": [
        "filesSearchResults = glob('')"
      ],
      "metadata": {
        "id": "7iUNgbyZvAC_"
      },
      "execution_count": null,
      "outputs": []
    }
  ]
}