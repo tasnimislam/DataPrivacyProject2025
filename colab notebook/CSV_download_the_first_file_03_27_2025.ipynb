{
  "nbformat": 4,
  "nbformat_minor": 0,
  "metadata": {
    "colab": {
      "provenance": []
    },
    "kernelspec": {
      "name": "python3",
      "display_name": "Python 3"
    },
    "language_info": {
      "name": "python"
    }
  },
  "cells": [
    {
      "cell_type": "code",
      "source": [
        "!pip install wget"
      ],
      "metadata": {
        "colab": {
          "base_uri": "https://localhost:8080/"
        },
        "id": "HikeFj542qMH",
        "outputId": "672aa95c-1a61-469d-d6a3-893c195b96a7"
      },
      "execution_count": null,
      "outputs": [
        {
          "output_type": "stream",
          "name": "stdout",
          "text": [
            "Collecting wget\n",
            "  Downloading wget-3.2.zip (10 kB)\n",
            "  Preparing metadata (setup.py) ... \u001b[?25l\u001b[?25hdone\n",
            "Building wheels for collected packages: wget\n",
            "  Building wheel for wget (setup.py) ... \u001b[?25l\u001b[?25hdone\n",
            "  Created wheel for wget: filename=wget-3.2-py3-none-any.whl size=9656 sha256=bebe9954b7b3acb94832f734ce05f0dced9fb652470ba9b20fd3f5e0574c5ebb\n",
            "  Stored in directory: /root/.cache/pip/wheels/40/b3/0f/a40dbd1c6861731779f62cc4babcb234387e11d697df70ee97\n",
            "Successfully built wget\n",
            "Installing collected packages: wget\n",
            "Successfully installed wget-3.2\n"
          ]
        }
      ]
    },
    {
      "cell_type": "code",
      "execution_count": null,
      "metadata": {
        "id": "b9QoHPYSvS-o"
      },
      "outputs": [],
      "source": [
        "import pandas as pd\n",
        "from glob import glob\n",
        "import wget"
      ]
    },
    {
      "cell_type": "code",
      "source": [
        "listPivacyLinks = []\n",
        "csvFiles = glob('/content/drive/MyDrive/PhD research/LLM Privacy Policy/Codes/automated csv/*.xlsx')\n",
        "print(len(csvFiles))\n",
        "for csv in csvFiles:\n",
        "  df = pd.read_excel(csv)\n",
        "  try:\n",
        "    listPivacyLinks.append(df['link'][0])\n",
        "  except:\n",
        "    pass"
      ],
      "metadata": {
        "colab": {
          "base_uri": "https://localhost:8080/"
        },
        "id": "v8ihR-FJw-vq",
        "outputId": "a58a4cf9-71dc-4990-94f5-4fea9299307c"
      },
      "execution_count": null,
      "outputs": [
        {
          "output_type": "stream",
          "name": "stdout",
          "text": [
            "78\n"
          ]
        }
      ]
    },
    {
      "cell_type": "code",
      "source": [
        "len(listPivacyLinks)"
      ],
      "metadata": {
        "colab": {
          "base_uri": "https://localhost:8080/"
        },
        "id": "kXP_6F9W0s8R",
        "outputId": "ed2efb4a-cb3f-4b8f-9449-3a517008c7e4"
      },
      "execution_count": null,
      "outputs": [
        {
          "output_type": "execute_result",
          "data": {
            "text/plain": [
              "76"
            ]
          },
          "metadata": {},
          "execution_count": 9
        }
      ]
    },
    {
      "cell_type": "code",
      "source": [
        "url = 'https://media.geeksforgeeks.org/wp-content/uploads/20240226121023/GFG.pdf'\n",
        "\n",
        "\n",
        "file_Path = 'research_Paper_3.pdf'\n",
        "output_path = \"/content/\"\n",
        "wget.download(url, file_Path)"
      ],
      "metadata": {
        "colab": {
          "base_uri": "https://localhost:8080/",
          "height": 35
        },
        "id": "ULv1xiIB1iea",
        "outputId": "6a145e9d-3779-4809-ead1-5ae7f941f505"
      },
      "execution_count": null,
      "outputs": [
        {
          "output_type": "execute_result",
          "data": {
            "text/plain": [
              "'research_Paper_3.pdf'"
            ],
            "application/vnd.google.colaboratory.intrinsic+json": {
              "type": "string"
            }
          },
          "metadata": {},
          "execution_count": 13
        }
      ]
    },
    {
      "cell_type": "code",
      "source": [
        "for url in listPivacyLinks:\n",
        "  output_path = \"/content/drive/MyDrive/PhD research/LLM Privacy Policy/Codes/automated privacy polixy/\"\n",
        "  try:\n",
        "    wget.download(url, output_path)\n",
        "  except:\n",
        "    pass"
      ],
      "metadata": {
        "id": "_qFxrjmH2yze"
      },
      "execution_count": null,
      "outputs": []
    }
  ]
}