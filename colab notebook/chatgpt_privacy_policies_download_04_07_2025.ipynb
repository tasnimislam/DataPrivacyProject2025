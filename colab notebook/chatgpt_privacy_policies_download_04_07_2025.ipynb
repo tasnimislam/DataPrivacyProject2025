{
  "nbformat": 4,
  "nbformat_minor": 0,
  "metadata": {
    "colab": {
      "provenance": []
    },
    "kernelspec": {
      "name": "python3",
      "display_name": "Python 3"
    },
    "language_info": {
      "name": "python"
    }
  },
  "cells": [
    {
      "cell_type": "code",
      "execution_count": null,
      "metadata": {
        "colab": {
          "base_uri": "https://localhost:8080/"
        },
        "id": "_cf6sYmVBN1R",
        "outputId": "0ca65dca-551c-42c8-c764-f978aed95294"
      },
      "outputs": [
        {
          "output_type": "stream",
          "name": "stdout",
          "text": [
            "Downloaded 'Alphabet_(Google).pdf' successfully.\n",
            "Downloaded 'JPMorgan_Chase_&_Co..pdf' successfully.\n",
            "Downloaded 'The_Cigna_Group.pdf' successfully.\n",
            "Downloaded 'Bank_of_America_Corp..pdf' successfully.\n",
            "Failed to download 'AT&T_Inc..pdf': 403 Client Error: Forbidden for url: https://about.att.com/ecms/dam/csr/privacy-redesign/2212-ATT-Privacy-Policy-Full.pdf\n",
            "Failed to download 'Comcast_Corp..pdf': 403 Client Error: Forbidden for url: https://update.comcast.com/download/17899/\n",
            "Downloaded 'Wells_Fargo_&_Co..pdf' successfully.\n",
            "Downloaded 'Humana_Inc..pdf' successfully.\n",
            "Downloaded 'Cigna_Healthcare.pdf' successfully.\n",
            "Failed to download 'Truist_Financial.pdf': 404 Client Error: Not Found for url: https://www.truist.com/content/dam/truist/us/en/documents/privacy-notice.pdf\n"
          ]
        }
      ],
      "source": [
        "import pandas as pd\n",
        "import requests\n",
        "import os\n",
        "\n",
        "def download_pdf(url, filename, directory):\n",
        "    try:\n",
        "        response = requests.get(url)\n",
        "        response.raise_for_status()  # Raises an HTTPError for bad responses\n",
        "        with open(os.path.join(directory, filename), 'wb') as f:\n",
        "            f.write(response.content)\n",
        "        print(f\"Downloaded '{filename}' successfully.\")\n",
        "    except requests.RequestException as e:\n",
        "        print(f\"Failed to download '{filename}': {e}\")\n",
        "\n",
        "def main():\n",
        "    # Load the CSV file\n",
        "    csv_file = '/content/drive/MyDrive/PhD research/LLM Privacy Policy/Codes/chatgpt privacy policy excel/fortune100_service_company_privacy_policies_final.csv'  # Update this with the path to your CSV file\n",
        "    data = pd.read_csv(csv_file)\n",
        "\n",
        "    # Create a directory for the PDFs\n",
        "    pdf_directory = '/content/drive/MyDrive/PhD research/LLM Privacy Policy/Codes/chatgpt privacy policy excel/downloaded policy pdf'\n",
        "    os.makedirs(pdf_directory, exist_ok=True)\n",
        "\n",
        "    # Filter and download PDFs\n",
        "    for _, row in data.iterrows():\n",
        "        pdf_link = row['Privacy Policy PDF']\n",
        "        if pd.notna(pdf_link):\n",
        "            company_name = row['Company Name'].replace(' ', '_')\n",
        "            filename = f\"{company_name}.pdf\"\n",
        "            download_pdf(pdf_link, filename, pdf_directory)\n",
        "\n",
        "if __name__ == \"__main__\":\n",
        "    main()\n"
      ]
    }
  ]
}